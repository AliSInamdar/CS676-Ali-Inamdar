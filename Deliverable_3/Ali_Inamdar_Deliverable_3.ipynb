{
  "nbformat": 4,
  "nbformat_minor": 0,
  "metadata": {
    "colab": {
      "provenance": []
    },
    "kernelspec": {
      "name": "python3",
      "display_name": "Python 3"
    },
    "language_info": {
      "name": "python"
    },
    "widgets": {
      "application/vnd.jupyter.widget-state+json": {
        "ffc4f3a8f8f64ee08a99bfc33de40544": {
          "model_module": "@jupyter-widgets/controls",
          "model_name": "HBoxModel",
          "model_module_version": "1.5.0",
          "state": {
            "_dom_classes": [],
            "_model_module": "@jupyter-widgets/controls",
            "_model_module_version": "1.5.0",
            "_model_name": "HBoxModel",
            "_view_count": null,
            "_view_module": "@jupyter-widgets/controls",
            "_view_module_version": "1.5.0",
            "_view_name": "HBoxView",
            "box_style": "",
            "children": [
              "IPY_MODEL_9da2ac4a05124bf38a115cce4a0b4cd9",
              "IPY_MODEL_822b0746ab6f405caee9fb4cb153f0a4",
              "IPY_MODEL_b5944ebc2add4b69884be8d13d363a22"
            ],
            "layout": "IPY_MODEL_a28cfb136c5b4f04a8b8a3a22e246d78"
          }
        },
        "9da2ac4a05124bf38a115cce4a0b4cd9": {
          "model_module": "@jupyter-widgets/controls",
          "model_name": "HTMLModel",
          "model_module_version": "1.5.0",
          "state": {
            "_dom_classes": [],
            "_model_module": "@jupyter-widgets/controls",
            "_model_module_version": "1.5.0",
            "_model_name": "HTMLModel",
            "_view_count": null,
            "_view_module": "@jupyter-widgets/controls",
            "_view_module_version": "1.5.0",
            "_view_name": "HTMLView",
            "description": "",
            "description_tooltip": null,
            "layout": "IPY_MODEL_64a4361945d74775be272cf2d0e2d14f",
            "placeholder": "​",
            "style": "IPY_MODEL_4f2c4d740ec545c8ae0ae56bbaf6e902",
            "value": "model.keras: 100%"
          }
        },
        "822b0746ab6f405caee9fb4cb153f0a4": {
          "model_module": "@jupyter-widgets/controls",
          "model_name": "FloatProgressModel",
          "model_module_version": "1.5.0",
          "state": {
            "_dom_classes": [],
            "_model_module": "@jupyter-widgets/controls",
            "_model_module_version": "1.5.0",
            "_model_name": "FloatProgressModel",
            "_view_count": null,
            "_view_module": "@jupyter-widgets/controls",
            "_view_module_version": "1.5.0",
            "_view_name": "ProgressView",
            "bar_style": "success",
            "description": "",
            "description_tooltip": null,
            "layout": "IPY_MODEL_5730d278769c4b52b4c2762efef597d7",
            "max": 41949301,
            "min": 0,
            "orientation": "horizontal",
            "style": "IPY_MODEL_a6bb8695b42146178aae4d1c0f96155c",
            "value": 41949301
          }
        },
        "b5944ebc2add4b69884be8d13d363a22": {
          "model_module": "@jupyter-widgets/controls",
          "model_name": "HTMLModel",
          "model_module_version": "1.5.0",
          "state": {
            "_dom_classes": [],
            "_model_module": "@jupyter-widgets/controls",
            "_model_module_version": "1.5.0",
            "_model_name": "HTMLModel",
            "_view_count": null,
            "_view_module": "@jupyter-widgets/controls",
            "_view_module_version": "1.5.0",
            "_view_name": "HTMLView",
            "description": "",
            "description_tooltip": null,
            "layout": "IPY_MODEL_3e80a47a84f64a9ca56eb52af1d351b7",
            "placeholder": "​",
            "style": "IPY_MODEL_8b504d51d5414277b53cd4abf5553605",
            "value": " 41.9M/41.9M [00:00&lt;00:00, 58.7MB/s]"
          }
        },
        "a28cfb136c5b4f04a8b8a3a22e246d78": {
          "model_module": "@jupyter-widgets/base",
          "model_name": "LayoutModel",
          "model_module_version": "1.2.0",
          "state": {
            "_model_module": "@jupyter-widgets/base",
            "_model_module_version": "1.2.0",
            "_model_name": "LayoutModel",
            "_view_count": null,
            "_view_module": "@jupyter-widgets/base",
            "_view_module_version": "1.2.0",
            "_view_name": "LayoutView",
            "align_content": null,
            "align_items": null,
            "align_self": null,
            "border": null,
            "bottom": null,
            "display": null,
            "flex": null,
            "flex_flow": null,
            "grid_area": null,
            "grid_auto_columns": null,
            "grid_auto_flow": null,
            "grid_auto_rows": null,
            "grid_column": null,
            "grid_gap": null,
            "grid_row": null,
            "grid_template_areas": null,
            "grid_template_columns": null,
            "grid_template_rows": null,
            "height": null,
            "justify_content": null,
            "justify_items": null,
            "left": null,
            "margin": null,
            "max_height": null,
            "max_width": null,
            "min_height": null,
            "min_width": null,
            "object_fit": null,
            "object_position": null,
            "order": null,
            "overflow": null,
            "overflow_x": null,
            "overflow_y": null,
            "padding": null,
            "right": null,
            "top": null,
            "visibility": null,
            "width": null
          }
        },
        "64a4361945d74775be272cf2d0e2d14f": {
          "model_module": "@jupyter-widgets/base",
          "model_name": "LayoutModel",
          "model_module_version": "1.2.0",
          "state": {
            "_model_module": "@jupyter-widgets/base",
            "_model_module_version": "1.2.0",
            "_model_name": "LayoutModel",
            "_view_count": null,
            "_view_module": "@jupyter-widgets/base",
            "_view_module_version": "1.2.0",
            "_view_name": "LayoutView",
            "align_content": null,
            "align_items": null,
            "align_self": null,
            "border": null,
            "bottom": null,
            "display": null,
            "flex": null,
            "flex_flow": null,
            "grid_area": null,
            "grid_auto_columns": null,
            "grid_auto_flow": null,
            "grid_auto_rows": null,
            "grid_column": null,
            "grid_gap": null,
            "grid_row": null,
            "grid_template_areas": null,
            "grid_template_columns": null,
            "grid_template_rows": null,
            "height": null,
            "justify_content": null,
            "justify_items": null,
            "left": null,
            "margin": null,
            "max_height": null,
            "max_width": null,
            "min_height": null,
            "min_width": null,
            "object_fit": null,
            "object_position": null,
            "order": null,
            "overflow": null,
            "overflow_x": null,
            "overflow_y": null,
            "padding": null,
            "right": null,
            "top": null,
            "visibility": null,
            "width": null
          }
        },
        "4f2c4d740ec545c8ae0ae56bbaf6e902": {
          "model_module": "@jupyter-widgets/controls",
          "model_name": "DescriptionStyleModel",
          "model_module_version": "1.5.0",
          "state": {
            "_model_module": "@jupyter-widgets/controls",
            "_model_module_version": "1.5.0",
            "_model_name": "DescriptionStyleModel",
            "_view_count": null,
            "_view_module": "@jupyter-widgets/base",
            "_view_module_version": "1.2.0",
            "_view_name": "StyleView",
            "description_width": ""
          }
        },
        "5730d278769c4b52b4c2762efef597d7": {
          "model_module": "@jupyter-widgets/base",
          "model_name": "LayoutModel",
          "model_module_version": "1.2.0",
          "state": {
            "_model_module": "@jupyter-widgets/base",
            "_model_module_version": "1.2.0",
            "_model_name": "LayoutModel",
            "_view_count": null,
            "_view_module": "@jupyter-widgets/base",
            "_view_module_version": "1.2.0",
            "_view_name": "LayoutView",
            "align_content": null,
            "align_items": null,
            "align_self": null,
            "border": null,
            "bottom": null,
            "display": null,
            "flex": null,
            "flex_flow": null,
            "grid_area": null,
            "grid_auto_columns": null,
            "grid_auto_flow": null,
            "grid_auto_rows": null,
            "grid_column": null,
            "grid_gap": null,
            "grid_row": null,
            "grid_template_areas": null,
            "grid_template_columns": null,
            "grid_template_rows": null,
            "height": null,
            "justify_content": null,
            "justify_items": null,
            "left": null,
            "margin": null,
            "max_height": null,
            "max_width": null,
            "min_height": null,
            "min_width": null,
            "object_fit": null,
            "object_position": null,
            "order": null,
            "overflow": null,
            "overflow_x": null,
            "overflow_y": null,
            "padding": null,
            "right": null,
            "top": null,
            "visibility": null,
            "width": null
          }
        },
        "a6bb8695b42146178aae4d1c0f96155c": {
          "model_module": "@jupyter-widgets/controls",
          "model_name": "ProgressStyleModel",
          "model_module_version": "1.5.0",
          "state": {
            "_model_module": "@jupyter-widgets/controls",
            "_model_module_version": "1.5.0",
            "_model_name": "ProgressStyleModel",
            "_view_count": null,
            "_view_module": "@jupyter-widgets/base",
            "_view_module_version": "1.2.0",
            "_view_name": "StyleView",
            "bar_color": null,
            "description_width": ""
          }
        },
        "3e80a47a84f64a9ca56eb52af1d351b7": {
          "model_module": "@jupyter-widgets/base",
          "model_name": "LayoutModel",
          "model_module_version": "1.2.0",
          "state": {
            "_model_module": "@jupyter-widgets/base",
            "_model_module_version": "1.2.0",
            "_model_name": "LayoutModel",
            "_view_count": null,
            "_view_module": "@jupyter-widgets/base",
            "_view_module_version": "1.2.0",
            "_view_name": "LayoutView",
            "align_content": null,
            "align_items": null,
            "align_self": null,
            "border": null,
            "bottom": null,
            "display": null,
            "flex": null,
            "flex_flow": null,
            "grid_area": null,
            "grid_auto_columns": null,
            "grid_auto_flow": null,
            "grid_auto_rows": null,
            "grid_column": null,
            "grid_gap": null,
            "grid_row": null,
            "grid_template_areas": null,
            "grid_template_columns": null,
            "grid_template_rows": null,
            "height": null,
            "justify_content": null,
            "justify_items": null,
            "left": null,
            "margin": null,
            "max_height": null,
            "max_width": null,
            "min_height": null,
            "min_width": null,
            "object_fit": null,
            "object_position": null,
            "order": null,
            "overflow": null,
            "overflow_x": null,
            "overflow_y": null,
            "padding": null,
            "right": null,
            "top": null,
            "visibility": null,
            "width": null
          }
        },
        "8b504d51d5414277b53cd4abf5553605": {
          "model_module": "@jupyter-widgets/controls",
          "model_name": "DescriptionStyleModel",
          "model_module_version": "1.5.0",
          "state": {
            "_model_module": "@jupyter-widgets/controls",
            "_model_module_version": "1.5.0",
            "_model_name": "DescriptionStyleModel",
            "_view_count": null,
            "_view_module": "@jupyter-widgets/base",
            "_view_module_version": "1.2.0",
            "_view_name": "StyleView",
            "description_width": ""
          }
        },
        "5f53cd7dd4594d4f892b8541067a5e74": {
          "model_module": "@jupyter-widgets/controls",
          "model_name": "HBoxModel",
          "model_module_version": "1.5.0",
          "state": {
            "_dom_classes": [],
            "_model_module": "@jupyter-widgets/controls",
            "_model_module_version": "1.5.0",
            "_model_name": "HBoxModel",
            "_view_count": null,
            "_view_module": "@jupyter-widgets/controls",
            "_view_module_version": "1.5.0",
            "_view_name": "HBoxView",
            "box_style": "",
            "children": [
              "IPY_MODEL_7210eefeee14499ba833e1343e6a302e",
              "IPY_MODEL_01dd68837f38400988dced4ca4640f6e",
              "IPY_MODEL_5c0ea162800d44f4960f60c76c87ab4f"
            ],
            "layout": "IPY_MODEL_919c235f1d07437383dc071f75011307"
          }
        },
        "7210eefeee14499ba833e1343e6a302e": {
          "model_module": "@jupyter-widgets/controls",
          "model_name": "HTMLModel",
          "model_module_version": "1.5.0",
          "state": {
            "_dom_classes": [],
            "_model_module": "@jupyter-widgets/controls",
            "_model_module_version": "1.5.0",
            "_model_name": "HTMLModel",
            "_view_count": null,
            "_view_module": "@jupyter-widgets/controls",
            "_view_module_version": "1.5.0",
            "_view_name": "HTMLView",
            "description": "",
            "description_tooltip": null,
            "layout": "IPY_MODEL_37a738aac69c47f4864ee8d11d671e00",
            "placeholder": "​",
            "style": "IPY_MODEL_996de66a356b48a5bf4e9c1e654bdb5c",
            "value": "tokenizer.pkl: 100%"
          }
        },
        "01dd68837f38400988dced4ca4640f6e": {
          "model_module": "@jupyter-widgets/controls",
          "model_name": "FloatProgressModel",
          "model_module_version": "1.5.0",
          "state": {
            "_dom_classes": [],
            "_model_module": "@jupyter-widgets/controls",
            "_model_module_version": "1.5.0",
            "_model_name": "FloatProgressModel",
            "_view_count": null,
            "_view_module": "@jupyter-widgets/controls",
            "_view_module_version": "1.5.0",
            "_view_name": "ProgressView",
            "bar_style": "success",
            "description": "",
            "description_tooltip": null,
            "layout": "IPY_MODEL_5c89cb88b3714f8fa5eef3af12c99dc3",
            "max": 25532,
            "min": 0,
            "orientation": "horizontal",
            "style": "IPY_MODEL_828a0c46846a423699e6fdaead256f71",
            "value": 25532
          }
        },
        "5c0ea162800d44f4960f60c76c87ab4f": {
          "model_module": "@jupyter-widgets/controls",
          "model_name": "HTMLModel",
          "model_module_version": "1.5.0",
          "state": {
            "_dom_classes": [],
            "_model_module": "@jupyter-widgets/controls",
            "_model_module_version": "1.5.0",
            "_model_name": "HTMLModel",
            "_view_count": null,
            "_view_module": "@jupyter-widgets/controls",
            "_view_module_version": "1.5.0",
            "_view_name": "HTMLView",
            "description": "",
            "description_tooltip": null,
            "layout": "IPY_MODEL_a577f010b18540fba36d53af881e8c20",
            "placeholder": "​",
            "style": "IPY_MODEL_337250899ed54e61bddd58f056f54a1a",
            "value": " 25.5k/25.5k [00:00&lt;00:00, 289kB/s]"
          }
        },
        "919c235f1d07437383dc071f75011307": {
          "model_module": "@jupyter-widgets/base",
          "model_name": "LayoutModel",
          "model_module_version": "1.2.0",
          "state": {
            "_model_module": "@jupyter-widgets/base",
            "_model_module_version": "1.2.0",
            "_model_name": "LayoutModel",
            "_view_count": null,
            "_view_module": "@jupyter-widgets/base",
            "_view_module_version": "1.2.0",
            "_view_name": "LayoutView",
            "align_content": null,
            "align_items": null,
            "align_self": null,
            "border": null,
            "bottom": null,
            "display": null,
            "flex": null,
            "flex_flow": null,
            "grid_area": null,
            "grid_auto_columns": null,
            "grid_auto_flow": null,
            "grid_auto_rows": null,
            "grid_column": null,
            "grid_gap": null,
            "grid_row": null,
            "grid_template_areas": null,
            "grid_template_columns": null,
            "grid_template_rows": null,
            "height": null,
            "justify_content": null,
            "justify_items": null,
            "left": null,
            "margin": null,
            "max_height": null,
            "max_width": null,
            "min_height": null,
            "min_width": null,
            "object_fit": null,
            "object_position": null,
            "order": null,
            "overflow": null,
            "overflow_x": null,
            "overflow_y": null,
            "padding": null,
            "right": null,
            "top": null,
            "visibility": null,
            "width": null
          }
        },
        "37a738aac69c47f4864ee8d11d671e00": {
          "model_module": "@jupyter-widgets/base",
          "model_name": "LayoutModel",
          "model_module_version": "1.2.0",
          "state": {
            "_model_module": "@jupyter-widgets/base",
            "_model_module_version": "1.2.0",
            "_model_name": "LayoutModel",
            "_view_count": null,
            "_view_module": "@jupyter-widgets/base",
            "_view_module_version": "1.2.0",
            "_view_name": "LayoutView",
            "align_content": null,
            "align_items": null,
            "align_self": null,
            "border": null,
            "bottom": null,
            "display": null,
            "flex": null,
            "flex_flow": null,
            "grid_area": null,
            "grid_auto_columns": null,
            "grid_auto_flow": null,
            "grid_auto_rows": null,
            "grid_column": null,
            "grid_gap": null,
            "grid_row": null,
            "grid_template_areas": null,
            "grid_template_columns": null,
            "grid_template_rows": null,
            "height": null,
            "justify_content": null,
            "justify_items": null,
            "left": null,
            "margin": null,
            "max_height": null,
            "max_width": null,
            "min_height": null,
            "min_width": null,
            "object_fit": null,
            "object_position": null,
            "order": null,
            "overflow": null,
            "overflow_x": null,
            "overflow_y": null,
            "padding": null,
            "right": null,
            "top": null,
            "visibility": null,
            "width": null
          }
        },
        "996de66a356b48a5bf4e9c1e654bdb5c": {
          "model_module": "@jupyter-widgets/controls",
          "model_name": "DescriptionStyleModel",
          "model_module_version": "1.5.0",
          "state": {
            "_model_module": "@jupyter-widgets/controls",
            "_model_module_version": "1.5.0",
            "_model_name": "DescriptionStyleModel",
            "_view_count": null,
            "_view_module": "@jupyter-widgets/base",
            "_view_module_version": "1.2.0",
            "_view_name": "StyleView",
            "description_width": ""
          }
        },
        "5c89cb88b3714f8fa5eef3af12c99dc3": {
          "model_module": "@jupyter-widgets/base",
          "model_name": "LayoutModel",
          "model_module_version": "1.2.0",
          "state": {
            "_model_module": "@jupyter-widgets/base",
            "_model_module_version": "1.2.0",
            "_model_name": "LayoutModel",
            "_view_count": null,
            "_view_module": "@jupyter-widgets/base",
            "_view_module_version": "1.2.0",
            "_view_name": "LayoutView",
            "align_content": null,
            "align_items": null,
            "align_self": null,
            "border": null,
            "bottom": null,
            "display": null,
            "flex": null,
            "flex_flow": null,
            "grid_area": null,
            "grid_auto_columns": null,
            "grid_auto_flow": null,
            "grid_auto_rows": null,
            "grid_column": null,
            "grid_gap": null,
            "grid_row": null,
            "grid_template_areas": null,
            "grid_template_columns": null,
            "grid_template_rows": null,
            "height": null,
            "justify_content": null,
            "justify_items": null,
            "left": null,
            "margin": null,
            "max_height": null,
            "max_width": null,
            "min_height": null,
            "min_width": null,
            "object_fit": null,
            "object_position": null,
            "order": null,
            "overflow": null,
            "overflow_x": null,
            "overflow_y": null,
            "padding": null,
            "right": null,
            "top": null,
            "visibility": null,
            "width": null
          }
        },
        "828a0c46846a423699e6fdaead256f71": {
          "model_module": "@jupyter-widgets/controls",
          "model_name": "ProgressStyleModel",
          "model_module_version": "1.5.0",
          "state": {
            "_model_module": "@jupyter-widgets/controls",
            "_model_module_version": "1.5.0",
            "_model_name": "ProgressStyleModel",
            "_view_count": null,
            "_view_module": "@jupyter-widgets/base",
            "_view_module_version": "1.2.0",
            "_view_name": "StyleView",
            "bar_color": null,
            "description_width": ""
          }
        },
        "a577f010b18540fba36d53af881e8c20": {
          "model_module": "@jupyter-widgets/base",
          "model_name": "LayoutModel",
          "model_module_version": "1.2.0",
          "state": {
            "_model_module": "@jupyter-widgets/base",
            "_model_module_version": "1.2.0",
            "_model_name": "LayoutModel",
            "_view_count": null,
            "_view_module": "@jupyter-widgets/base",
            "_view_module_version": "1.2.0",
            "_view_name": "LayoutView",
            "align_content": null,
            "align_items": null,
            "align_self": null,
            "border": null,
            "bottom": null,
            "display": null,
            "flex": null,
            "flex_flow": null,
            "grid_area": null,
            "grid_auto_columns": null,
            "grid_auto_flow": null,
            "grid_auto_rows": null,
            "grid_column": null,
            "grid_gap": null,
            "grid_row": null,
            "grid_template_areas": null,
            "grid_template_columns": null,
            "grid_template_rows": null,
            "height": null,
            "justify_content": null,
            "justify_items": null,
            "left": null,
            "margin": null,
            "max_height": null,
            "max_width": null,
            "min_height": null,
            "min_width": null,
            "object_fit": null,
            "object_position": null,
            "order": null,
            "overflow": null,
            "overflow_x": null,
            "overflow_y": null,
            "padding": null,
            "right": null,
            "top": null,
            "visibility": null,
            "width": null
          }
        },
        "337250899ed54e61bddd58f056f54a1a": {
          "model_module": "@jupyter-widgets/controls",
          "model_name": "DescriptionStyleModel",
          "model_module_version": "1.5.0",
          "state": {
            "_model_module": "@jupyter-widgets/controls",
            "_model_module_version": "1.5.0",
            "_model_name": "DescriptionStyleModel",
            "_view_count": null,
            "_view_module": "@jupyter-widgets/base",
            "_view_module_version": "1.2.0",
            "_view_name": "StyleView",
            "description_width": ""
          }
        },
        "0bf92a473d9642d8a8189ebb3fe1a350": {
          "model_module": "@jupyter-widgets/controls",
          "model_name": "HBoxModel",
          "model_module_version": "1.5.0",
          "state": {
            "_dom_classes": [],
            "_model_module": "@jupyter-widgets/controls",
            "_model_module_version": "1.5.0",
            "_model_name": "HBoxModel",
            "_view_count": null,
            "_view_module": "@jupyter-widgets/controls",
            "_view_module_version": "1.5.0",
            "_view_name": "HBoxView",
            "box_style": "",
            "children": [
              "IPY_MODEL_c743916695e8447ba56a4d5ce227367a",
              "IPY_MODEL_8762657a0d0b4a41859d0070b84f499a",
              "IPY_MODEL_b578e8ba9c7544a1acc0dc50db5aa34d"
            ],
            "layout": "IPY_MODEL_4b6fa1b3478a414a933aed6f6c7b2e6c"
          }
        },
        "c743916695e8447ba56a4d5ce227367a": {
          "model_module": "@jupyter-widgets/controls",
          "model_name": "HTMLModel",
          "model_module_version": "1.5.0",
          "state": {
            "_dom_classes": [],
            "_model_module": "@jupyter-widgets/controls",
            "_model_module_version": "1.5.0",
            "_model_name": "HTMLModel",
            "_view_count": null,
            "_view_module": "@jupyter-widgets/controls",
            "_view_module_version": "1.5.0",
            "_view_name": "HTMLView",
            "description": "",
            "description_tooltip": null,
            "layout": "IPY_MODEL_646a8e90c1874eb0abc65f98027a561e",
            "placeholder": "​",
            "style": "IPY_MODEL_a4bfa503fee54bdf9a5663513d7c09e2",
            "value": "model.keras: 100%"
          }
        },
        "8762657a0d0b4a41859d0070b84f499a": {
          "model_module": "@jupyter-widgets/controls",
          "model_name": "FloatProgressModel",
          "model_module_version": "1.5.0",
          "state": {
            "_dom_classes": [],
            "_model_module": "@jupyter-widgets/controls",
            "_model_module_version": "1.5.0",
            "_model_name": "FloatProgressModel",
            "_view_count": null,
            "_view_module": "@jupyter-widgets/controls",
            "_view_module_version": "1.5.0",
            "_view_name": "ProgressView",
            "bar_style": "success",
            "description": "",
            "description_tooltip": null,
            "layout": "IPY_MODEL_cf705adac09b492eaed256b0f2b5cfd5",
            "max": 41949301,
            "min": 0,
            "orientation": "horizontal",
            "style": "IPY_MODEL_dc2fa6066bea4850b958d618e2815f6c",
            "value": 41949301
          }
        },
        "b578e8ba9c7544a1acc0dc50db5aa34d": {
          "model_module": "@jupyter-widgets/controls",
          "model_name": "HTMLModel",
          "model_module_version": "1.5.0",
          "state": {
            "_dom_classes": [],
            "_model_module": "@jupyter-widgets/controls",
            "_model_module_version": "1.5.0",
            "_model_name": "HTMLModel",
            "_view_count": null,
            "_view_module": "@jupyter-widgets/controls",
            "_view_module_version": "1.5.0",
            "_view_name": "HTMLView",
            "description": "",
            "description_tooltip": null,
            "layout": "IPY_MODEL_fbf691790a844c8a87d666f5368996be",
            "placeholder": "​",
            "style": "IPY_MODEL_6881c7fa1eb4467e867dcea78e936a49",
            "value": " 41.9M/41.9M [00:01&lt;00:00, 41.3MB/s]"
          }
        },
        "4b6fa1b3478a414a933aed6f6c7b2e6c": {
          "model_module": "@jupyter-widgets/base",
          "model_name": "LayoutModel",
          "model_module_version": "1.2.0",
          "state": {
            "_model_module": "@jupyter-widgets/base",
            "_model_module_version": "1.2.0",
            "_model_name": "LayoutModel",
            "_view_count": null,
            "_view_module": "@jupyter-widgets/base",
            "_view_module_version": "1.2.0",
            "_view_name": "LayoutView",
            "align_content": null,
            "align_items": null,
            "align_self": null,
            "border": null,
            "bottom": null,
            "display": null,
            "flex": null,
            "flex_flow": null,
            "grid_area": null,
            "grid_auto_columns": null,
            "grid_auto_flow": null,
            "grid_auto_rows": null,
            "grid_column": null,
            "grid_gap": null,
            "grid_row": null,
            "grid_template_areas": null,
            "grid_template_columns": null,
            "grid_template_rows": null,
            "height": null,
            "justify_content": null,
            "justify_items": null,
            "left": null,
            "margin": null,
            "max_height": null,
            "max_width": null,
            "min_height": null,
            "min_width": null,
            "object_fit": null,
            "object_position": null,
            "order": null,
            "overflow": null,
            "overflow_x": null,
            "overflow_y": null,
            "padding": null,
            "right": null,
            "top": null,
            "visibility": null,
            "width": null
          }
        },
        "646a8e90c1874eb0abc65f98027a561e": {
          "model_module": "@jupyter-widgets/base",
          "model_name": "LayoutModel",
          "model_module_version": "1.2.0",
          "state": {
            "_model_module": "@jupyter-widgets/base",
            "_model_module_version": "1.2.0",
            "_model_name": "LayoutModel",
            "_view_count": null,
            "_view_module": "@jupyter-widgets/base",
            "_view_module_version": "1.2.0",
            "_view_name": "LayoutView",
            "align_content": null,
            "align_items": null,
            "align_self": null,
            "border": null,
            "bottom": null,
            "display": null,
            "flex": null,
            "flex_flow": null,
            "grid_area": null,
            "grid_auto_columns": null,
            "grid_auto_flow": null,
            "grid_auto_rows": null,
            "grid_column": null,
            "grid_gap": null,
            "grid_row": null,
            "grid_template_areas": null,
            "grid_template_columns": null,
            "grid_template_rows": null,
            "height": null,
            "justify_content": null,
            "justify_items": null,
            "left": null,
            "margin": null,
            "max_height": null,
            "max_width": null,
            "min_height": null,
            "min_width": null,
            "object_fit": null,
            "object_position": null,
            "order": null,
            "overflow": null,
            "overflow_x": null,
            "overflow_y": null,
            "padding": null,
            "right": null,
            "top": null,
            "visibility": null,
            "width": null
          }
        },
        "a4bfa503fee54bdf9a5663513d7c09e2": {
          "model_module": "@jupyter-widgets/controls",
          "model_name": "DescriptionStyleModel",
          "model_module_version": "1.5.0",
          "state": {
            "_model_module": "@jupyter-widgets/controls",
            "_model_module_version": "1.5.0",
            "_model_name": "DescriptionStyleModel",
            "_view_count": null,
            "_view_module": "@jupyter-widgets/base",
            "_view_module_version": "1.2.0",
            "_view_name": "StyleView",
            "description_width": ""
          }
        },
        "cf705adac09b492eaed256b0f2b5cfd5": {
          "model_module": "@jupyter-widgets/base",
          "model_name": "LayoutModel",
          "model_module_version": "1.2.0",
          "state": {
            "_model_module": "@jupyter-widgets/base",
            "_model_module_version": "1.2.0",
            "_model_name": "LayoutModel",
            "_view_count": null,
            "_view_module": "@jupyter-widgets/base",
            "_view_module_version": "1.2.0",
            "_view_name": "LayoutView",
            "align_content": null,
            "align_items": null,
            "align_self": null,
            "border": null,
            "bottom": null,
            "display": null,
            "flex": null,
            "flex_flow": null,
            "grid_area": null,
            "grid_auto_columns": null,
            "grid_auto_flow": null,
            "grid_auto_rows": null,
            "grid_column": null,
            "grid_gap": null,
            "grid_row": null,
            "grid_template_areas": null,
            "grid_template_columns": null,
            "grid_template_rows": null,
            "height": null,
            "justify_content": null,
            "justify_items": null,
            "left": null,
            "margin": null,
            "max_height": null,
            "max_width": null,
            "min_height": null,
            "min_width": null,
            "object_fit": null,
            "object_position": null,
            "order": null,
            "overflow": null,
            "overflow_x": null,
            "overflow_y": null,
            "padding": null,
            "right": null,
            "top": null,
            "visibility": null,
            "width": null
          }
        },
        "dc2fa6066bea4850b958d618e2815f6c": {
          "model_module": "@jupyter-widgets/controls",
          "model_name": "ProgressStyleModel",
          "model_module_version": "1.5.0",
          "state": {
            "_model_module": "@jupyter-widgets/controls",
            "_model_module_version": "1.5.0",
            "_model_name": "ProgressStyleModel",
            "_view_count": null,
            "_view_module": "@jupyter-widgets/base",
            "_view_module_version": "1.2.0",
            "_view_name": "StyleView",
            "bar_color": null,
            "description_width": ""
          }
        },
        "fbf691790a844c8a87d666f5368996be": {
          "model_module": "@jupyter-widgets/base",
          "model_name": "LayoutModel",
          "model_module_version": "1.2.0",
          "state": {
            "_model_module": "@jupyter-widgets/base",
            "_model_module_version": "1.2.0",
            "_model_name": "LayoutModel",
            "_view_count": null,
            "_view_module": "@jupyter-widgets/base",
            "_view_module_version": "1.2.0",
            "_view_name": "LayoutView",
            "align_content": null,
            "align_items": null,
            "align_self": null,
            "border": null,
            "bottom": null,
            "display": null,
            "flex": null,
            "flex_flow": null,
            "grid_area": null,
            "grid_auto_columns": null,
            "grid_auto_flow": null,
            "grid_auto_rows": null,
            "grid_column": null,
            "grid_gap": null,
            "grid_row": null,
            "grid_template_areas": null,
            "grid_template_columns": null,
            "grid_template_rows": null,
            "height": null,
            "justify_content": null,
            "justify_items": null,
            "left": null,
            "margin": null,
            "max_height": null,
            "max_width": null,
            "min_height": null,
            "min_width": null,
            "object_fit": null,
            "object_position": null,
            "order": null,
            "overflow": null,
            "overflow_x": null,
            "overflow_y": null,
            "padding": null,
            "right": null,
            "top": null,
            "visibility": null,
            "width": null
          }
        },
        "6881c7fa1eb4467e867dcea78e936a49": {
          "model_module": "@jupyter-widgets/controls",
          "model_name": "DescriptionStyleModel",
          "model_module_version": "1.5.0",
          "state": {
            "_model_module": "@jupyter-widgets/controls",
            "_model_module_version": "1.5.0",
            "_model_name": "DescriptionStyleModel",
            "_view_count": null,
            "_view_module": "@jupyter-widgets/base",
            "_view_module_version": "1.2.0",
            "_view_name": "StyleView",
            "description_width": ""
          }
        }
      }
    }
  },
  "cells": [
    {
      "cell_type": "markdown",
      "source": [
        "## Algorithms for Data Science - CS 676\n",
        "## Project 1 -  Deliverable 3.\n",
        "## Ali Inamdar"
      ],
      "metadata": {
        "id": "3j_Mf-XySvjo"
      }
    },
    {
      "cell_type": "markdown",
      "source": [
        "- Installing the Hugging Face upgrade package."
      ],
      "metadata": {
        "id": "8lhcQWvYTCOA"
      }
    },
    {
      "cell_type": "code",
      "source": [
        "#Installing the Hugging Face update package.\n",
        "! pip install --upgrade huggingface_hub"
      ],
      "metadata": {
        "colab": {
          "base_uri": "https://localhost:8080/"
        },
        "id": "Ds5412grSd8A",
        "outputId": "1f3dc6f1-0e0d-4e1e-87ed-c2494763fada"
      },
      "execution_count": 2,
      "outputs": [
        {
          "output_type": "stream",
          "name": "stdout",
          "text": [
            "Requirement already satisfied: huggingface_hub in /usr/local/lib/python3.11/dist-packages (0.29.1)\n",
            "Requirement already satisfied: filelock in /usr/local/lib/python3.11/dist-packages (from huggingface_hub) (3.17.0)\n",
            "Requirement already satisfied: fsspec>=2023.5.0 in /usr/local/lib/python3.11/dist-packages (from huggingface_hub) (2024.10.0)\n",
            "Requirement already satisfied: packaging>=20.9 in /usr/local/lib/python3.11/dist-packages (from huggingface_hub) (24.2)\n",
            "Requirement already satisfied: pyyaml>=5.1 in /usr/local/lib/python3.11/dist-packages (from huggingface_hub) (6.0.2)\n",
            "Requirement already satisfied: requests in /usr/local/lib/python3.11/dist-packages (from huggingface_hub) (2.32.3)\n",
            "Requirement already satisfied: tqdm>=4.42.1 in /usr/local/lib/python3.11/dist-packages (from huggingface_hub) (4.67.1)\n",
            "Requirement already satisfied: typing-extensions>=3.7.4.3 in /usr/local/lib/python3.11/dist-packages (from huggingface_hub) (4.12.2)\n",
            "Requirement already satisfied: charset-normalizer<4,>=2 in /usr/local/lib/python3.11/dist-packages (from requests->huggingface_hub) (3.4.1)\n",
            "Requirement already satisfied: idna<4,>=2.5 in /usr/local/lib/python3.11/dist-packages (from requests->huggingface_hub) (3.10)\n",
            "Requirement already satisfied: urllib3<3,>=1.21.1 in /usr/local/lib/python3.11/dist-packages (from requests->huggingface_hub) (2.3.0)\n",
            "Requirement already satisfied: certifi>=2017.4.17 in /usr/local/lib/python3.11/dist-packages (from requests->huggingface_hub) (2025.1.31)\n"
          ]
        }
      ]
    },
    {
      "cell_type": "markdown",
      "source": [
        "## 1. Combining the CSV (Inputs from the whole class)."
      ],
      "metadata": {
        "id": "nvu5PKBHTLYq"
      }
    },
    {
      "cell_type": "code",
      "execution_count": 3,
      "metadata": {
        "id": "mTlo2MpiUxym"
      },
      "outputs": [],
      "source": [
        "#Importing all libraries required for the CSV conversion.\n",
        "import pandas as pd\n",
        "import requests\n",
        "from io import StringIO\n",
        "\n",
        "\n",
        "#Creating a function to pull and and combine the csv\n",
        "def download_and_combine_csv(urls: list) -> pd.DataFrame:\n",
        "    \"\"\"\n",
        "    Download CSV files from provided URLs and combine them row-wise.\n",
        "    It will combine files if they have the expected column names or just the correct number of columns.\n",
        "    Handles different encodings to avoid common decoding errors. Converts certain columns to integer form.\n",
        "\n",
        "    Args:\n",
        "    urls (list): List of strings containing the URLs of the CSV files.\n",
        "\n",
        "    Returns:\n",
        "    pd.DataFrame: A DataFrame containing the combined data from all matching CSV files.\n",
        "    \"\"\"\n",
        "    expected_columns = {'user_prompt', 'url_to_check', 'func_rating', 'custom_rating'}\n",
        "    combined_df = pd.DataFrame()\n",
        "\n",
        "    for url in urls:\n",
        "        try:\n",
        "            # Modify the GitHub URL to point to the raw version of the file\n",
        "            raw_url = url.replace('github.com', 'raw.githubusercontent.com').replace('/blob', '')\n",
        "\n",
        "            response = requests.get(raw_url)\n",
        "            if response.status_code == 200:\n",
        "                try:\n",
        "                    # Attempt to read with utf-8 encoding\n",
        "                    content = response.content.decode('utf-8')\n",
        "                except UnicodeDecodeError:\n",
        "                    # Attempt to read with latin1 encoding\n",
        "                    content = response.content.decode('latin1')\n",
        "\n",
        "                # Read the CSV file into a DataFrame\n",
        "                df = pd.read_csv(StringIO(content))\n",
        "\n",
        "                # Check if the columns match the expected columns or if there are at least 4 columns\n",
        "                if set(df.columns) == expected_columns:\n",
        "                    combined_df = pd.concat([combined_df, df], ignore_index=True)\n",
        "                elif len(df.columns) >= 4:\n",
        "                    # Assume the first 4 columns are the required ones and ignore the original column names\n",
        "                    df = df.iloc[:, :4]\n",
        "                    df.columns = ['user_prompt', 'url_to_check', 'func_rating', 'custom_rating']\n",
        "                    combined_df = pd.concat([combined_df, df], ignore_index=True)\n",
        "                else:\n",
        "                    print(f\"Skipping file with insufficient columns: {url}\")\n",
        "            else:\n",
        "                print(f\"Failed to download from {url}\")\n",
        "        except Exception as e:\n",
        "            print(f\"Error processing {url}: {str(e)}\")\n",
        "\n",
        "    # Ensure func_rating and custom_rating are integers\n",
        "    if not combined_df.empty:\n",
        "        combined_df['func_rating'] = combined_df['func_rating'].round().astype(int)\n",
        "        combined_df['custom_rating'] = combined_df['custom_rating'].round().astype(int)\n",
        "\n",
        "    return combined_df"
      ]
    },
    {
      "cell_type": "markdown",
      "source": [
        "- Importing all the Github URLs for making the CSV"
      ],
      "metadata": {
        "id": "CNHdKyjyTl7G"
      }
    },
    {
      "cell_type": "code",
      "source": [
        "# Getting all Github URLs for combining:\n",
        "urls = [\n",
        "    \"https://github.com/vrutika-prajapati/Credibility-Score-for-Articles/blob/main/projects/deliverable%202/Url_validation.csv\",\n",
        "    \"https://github.com/Saikumar08-sk/URL-Validation/blob/main/Deliverable.csv\",\n",
        "    \"https://github.com/aditya19111/Project-1-Credibility-Score-for-Articles-Sources-References/blob/main/Deliverable_2/Deliverables_rating_comparison%20-%20Sheet1.csv\",\n",
        "    \"https://github.com/SAIKUMAR500/algorithums-for-data-science/blob/main/deliverable2/dataset(Sheet1).csv\",\n",
        "    \"https://github.com/drashti-sanghani/Credibility_score_articles/blob/main/Project/Deliverable2/user_ratings.csv\",\n",
        "    \"https://github.com/anchalrai101/CREDIBILITY-SCORE/blob/main/urltesting_scores.csv\",\n",
        "    \"https://github.com/AliSInamdar/CS676-Ali-Inamdar/blob/Project_1_Credibilty_Score/Deliverable_2/Deliverable_2.csv\",\n",
        "    \"https://github.com/bhavnaa22/Algorithms-For-Data-Science/blob/main/Deliverable%202/Deliverable2.csv\",\n",
        "    \"https://github.com/bhatthardik4/AlgorithmDS/blob/main/Deliverable_2/HardikBhattD2.csv\",\n",
        "    \"https://github.com/Rakeshkanche/Algorithms-for-Data-Science/blob/main/queries_urls_ratings.csv\",\n",
        "    \"https://github.com/kristinakim-code/Credibility-Check/blob/main/deliverable2.csv\",\n",
        "    \"https://github.com/bhavnaa22/Algorithms-For-Data-Science/blob/main/Deliverable%202/Deliverable2.csv\",\n",
        "    \"https://github.com/kamaldomandula/Algorithms-of-data-science-Project/blob/main/Project/project1/Deliverable2/deliverable.csv\",\n",
        "    \"https://github.com/ChinmayShetye26/Algo-for-DS-delivery2/blob/main/Sample.csv\",\n",
        "    \"https://github.com/krishnam229/Project1/blob/main/deliverable2/sample.csv\",\n",
        "    \"https://github.com/drona23/Deliverable2/blob/main/output.csv\",\n",
        "    \"https://github.com/JoshuaGottlieb/Chatbot-Credibility-Scorer/blob/main/src/deliverable-02/testing/sample.csv\"\n",
        "]\n",
        ""
      ],
      "metadata": {
        "id": "D_rhTFxYU6ni"
      },
      "execution_count": 5,
      "outputs": []
    },
    {
      "cell_type": "markdown",
      "source": [
        "- Converting combined csv into a dataframe."
      ],
      "metadata": {
        "id": "nIKasaDUTu3x"
      }
    },
    {
      "cell_type": "code",
      "source": [
        "#Contering the combined CSV into a dataframe.\n",
        "result_df = download_and_combine_csv(urls)\n",
        "print(result_df)"
      ],
      "metadata": {
        "colab": {
          "base_uri": "https://localhost:8080/"
        },
        "id": "F31SltOmVCol",
        "outputId": "0dfa7898-5e39-49cc-c40d-11ed55c3beaa"
      },
      "execution_count": 6,
      "outputs": [
        {
          "output_type": "stream",
          "name": "stdout",
          "text": [
            "                                           user_prompt  \\\n",
            "0    I have just been on an international flight, c...   \n",
            "1          What are the benefits of a vegetarian diet?   \n",
            "2          What are the benefits of a vegetarian diet?   \n",
            "3          What are the benefits of a vegetarian diet?   \n",
            "4    How to improve mental health during stressful ...   \n",
            "..                                                 ...   \n",
            "297  How does altitude training affect endurance in...   \n",
            "298  What are the safest travel destinations for so...   \n",
            "299  How can travelers find sustainable and eco-fri...   \n",
            "300  What cultural experiences should not be missed...   \n",
            "301  How do budget travel options compare to luxury...   \n",
            "\n",
            "                                          url_to_check  func_rating  \\\n",
            "0    https://www.mayoclinic.org/healthy-lifestyle/i...            2   \n",
            "1    https://www.nhs.uk/live-well/eat-well/how-to-e...            2   \n",
            "2    https://www.nhs.uk/live-well/eat-well/how-to-e...            2   \n",
            "3    https://pubmed.ncbi.nlm.nih.gov/37226630/#:~:t...            2   \n",
            "4    https://www.who.int/news-room/questions-and-an...            3   \n",
            "..                                                 ...          ...   \n",
            "297  https://sports.stackexchange.com/questions/498...            3   \n",
            "298  https://www.exploreworldwide.com/blog/top-solo...            3   \n",
            "299  https://www.peekpro.com/blog/sustainable-touri...            3   \n",
            "300  https://www.insidejapantours.com/blog/2015/08/...            2   \n",
            "301  https://traveltillyoudrop.com/budget-travel-vs...            3   \n",
            "\n",
            "     custom_rating  \n",
            "0                3  \n",
            "1                4  \n",
            "2                2  \n",
            "3                3  \n",
            "4                3  \n",
            "..             ...  \n",
            "297              3  \n",
            "298              2  \n",
            "299              3  \n",
            "300              4  \n",
            "301              4  \n",
            "\n",
            "[302 rows x 4 columns]\n"
          ]
        }
      ]
    },
    {
      "cell_type": "markdown",
      "source": [
        "- Printing the dataframe."
      ],
      "metadata": {
        "id": "BnbhH0r5T7Pf"
      }
    },
    {
      "cell_type": "code",
      "source": [
        "#Printing the dataframe.\n",
        "result_df"
      ],
      "metadata": {
        "colab": {
          "base_uri": "https://localhost:8080/",
          "height": 423
        },
        "id": "7keACTWrVFQ5",
        "outputId": "5f4ea5d1-608a-435a-a8e2-73fd39944237"
      },
      "execution_count": 13,
      "outputs": [
        {
          "output_type": "execute_result",
          "data": {
            "text/plain": [
              "                                           user_prompt  \\\n",
              "0    I have just been on an international flight, c...   \n",
              "1          What are the benefits of a vegetarian diet?   \n",
              "2          What are the benefits of a vegetarian diet?   \n",
              "3          What are the benefits of a vegetarian diet?   \n",
              "4    How to improve mental health during stressful ...   \n",
              "..                                                 ...   \n",
              "297  How does altitude training affect endurance in...   \n",
              "298  What are the safest travel destinations for so...   \n",
              "299  How can travelers find sustainable and eco-fri...   \n",
              "300  What cultural experiences should not be missed...   \n",
              "301  How do budget travel options compare to luxury...   \n",
              "\n",
              "                                          url_to_check  func_rating  \\\n",
              "0    https://www.mayoclinic.org/healthy-lifestyle/i...            2   \n",
              "1    https://www.nhs.uk/live-well/eat-well/how-to-e...            2   \n",
              "2    https://www.nhs.uk/live-well/eat-well/how-to-e...            2   \n",
              "3    https://pubmed.ncbi.nlm.nih.gov/37226630/#:~:t...            2   \n",
              "4    https://www.who.int/news-room/questions-and-an...            3   \n",
              "..                                                 ...          ...   \n",
              "297  https://sports.stackexchange.com/questions/498...            3   \n",
              "298  https://www.exploreworldwide.com/blog/top-solo...            3   \n",
              "299  https://www.peekpro.com/blog/sustainable-touri...            3   \n",
              "300  https://www.insidejapantours.com/blog/2015/08/...            2   \n",
              "301  https://traveltillyoudrop.com/budget-travel-vs...            3   \n",
              "\n",
              "     custom_rating  \n",
              "0                3  \n",
              "1                4  \n",
              "2                2  \n",
              "3                3  \n",
              "4                3  \n",
              "..             ...  \n",
              "297              3  \n",
              "298              2  \n",
              "299              3  \n",
              "300              4  \n",
              "301              4  \n",
              "\n",
              "[302 rows x 4 columns]"
            ],
            "text/html": [
              "\n",
              "  <div id=\"df-3cba5503-e072-477f-9432-bd1a481774d1\" class=\"colab-df-container\">\n",
              "    <div>\n",
              "<style scoped>\n",
              "    .dataframe tbody tr th:only-of-type {\n",
              "        vertical-align: middle;\n",
              "    }\n",
              "\n",
              "    .dataframe tbody tr th {\n",
              "        vertical-align: top;\n",
              "    }\n",
              "\n",
              "    .dataframe thead th {\n",
              "        text-align: right;\n",
              "    }\n",
              "</style>\n",
              "<table border=\"1\" class=\"dataframe\">\n",
              "  <thead>\n",
              "    <tr style=\"text-align: right;\">\n",
              "      <th></th>\n",
              "      <th>user_prompt</th>\n",
              "      <th>url_to_check</th>\n",
              "      <th>func_rating</th>\n",
              "      <th>custom_rating</th>\n",
              "    </tr>\n",
              "  </thead>\n",
              "  <tbody>\n",
              "    <tr>\n",
              "      <th>0</th>\n",
              "      <td>I have just been on an international flight, c...</td>\n",
              "      <td>https://www.mayoclinic.org/healthy-lifestyle/i...</td>\n",
              "      <td>2</td>\n",
              "      <td>3</td>\n",
              "    </tr>\n",
              "    <tr>\n",
              "      <th>1</th>\n",
              "      <td>What are the benefits of a vegetarian diet?</td>\n",
              "      <td>https://www.nhs.uk/live-well/eat-well/how-to-e...</td>\n",
              "      <td>2</td>\n",
              "      <td>4</td>\n",
              "    </tr>\n",
              "    <tr>\n",
              "      <th>2</th>\n",
              "      <td>What are the benefits of a vegetarian diet?</td>\n",
              "      <td>https://www.nhs.uk/live-well/eat-well/how-to-e...</td>\n",
              "      <td>2</td>\n",
              "      <td>2</td>\n",
              "    </tr>\n",
              "    <tr>\n",
              "      <th>3</th>\n",
              "      <td>What are the benefits of a vegetarian diet?</td>\n",
              "      <td>https://pubmed.ncbi.nlm.nih.gov/37226630/#:~:t...</td>\n",
              "      <td>2</td>\n",
              "      <td>3</td>\n",
              "    </tr>\n",
              "    <tr>\n",
              "      <th>4</th>\n",
              "      <td>How to improve mental health during stressful ...</td>\n",
              "      <td>https://www.who.int/news-room/questions-and-an...</td>\n",
              "      <td>3</td>\n",
              "      <td>3</td>\n",
              "    </tr>\n",
              "    <tr>\n",
              "      <th>...</th>\n",
              "      <td>...</td>\n",
              "      <td>...</td>\n",
              "      <td>...</td>\n",
              "      <td>...</td>\n",
              "    </tr>\n",
              "    <tr>\n",
              "      <th>297</th>\n",
              "      <td>How does altitude training affect endurance in...</td>\n",
              "      <td>https://sports.stackexchange.com/questions/498...</td>\n",
              "      <td>3</td>\n",
              "      <td>3</td>\n",
              "    </tr>\n",
              "    <tr>\n",
              "      <th>298</th>\n",
              "      <td>What are the safest travel destinations for so...</td>\n",
              "      <td>https://www.exploreworldwide.com/blog/top-solo...</td>\n",
              "      <td>3</td>\n",
              "      <td>2</td>\n",
              "    </tr>\n",
              "    <tr>\n",
              "      <th>299</th>\n",
              "      <td>How can travelers find sustainable and eco-fri...</td>\n",
              "      <td>https://www.peekpro.com/blog/sustainable-touri...</td>\n",
              "      <td>3</td>\n",
              "      <td>3</td>\n",
              "    </tr>\n",
              "    <tr>\n",
              "      <th>300</th>\n",
              "      <td>What cultural experiences should not be missed...</td>\n",
              "      <td>https://www.insidejapantours.com/blog/2015/08/...</td>\n",
              "      <td>2</td>\n",
              "      <td>4</td>\n",
              "    </tr>\n",
              "    <tr>\n",
              "      <th>301</th>\n",
              "      <td>How do budget travel options compare to luxury...</td>\n",
              "      <td>https://traveltillyoudrop.com/budget-travel-vs...</td>\n",
              "      <td>3</td>\n",
              "      <td>4</td>\n",
              "    </tr>\n",
              "  </tbody>\n",
              "</table>\n",
              "<p>302 rows × 4 columns</p>\n",
              "</div>\n",
              "    <div class=\"colab-df-buttons\">\n",
              "\n",
              "  <div class=\"colab-df-container\">\n",
              "    <button class=\"colab-df-convert\" onclick=\"convertToInteractive('df-3cba5503-e072-477f-9432-bd1a481774d1')\"\n",
              "            title=\"Convert this dataframe to an interactive table.\"\n",
              "            style=\"display:none;\">\n",
              "\n",
              "  <svg xmlns=\"http://www.w3.org/2000/svg\" height=\"24px\" viewBox=\"0 -960 960 960\">\n",
              "    <path d=\"M120-120v-720h720v720H120Zm60-500h600v-160H180v160Zm220 220h160v-160H400v160Zm0 220h160v-160H400v160ZM180-400h160v-160H180v160Zm440 0h160v-160H620v160ZM180-180h160v-160H180v160Zm440 0h160v-160H620v160Z\"/>\n",
              "  </svg>\n",
              "    </button>\n",
              "\n",
              "  <style>\n",
              "    .colab-df-container {\n",
              "      display:flex;\n",
              "      gap: 12px;\n",
              "    }\n",
              "\n",
              "    .colab-df-convert {\n",
              "      background-color: #E8F0FE;\n",
              "      border: none;\n",
              "      border-radius: 50%;\n",
              "      cursor: pointer;\n",
              "      display: none;\n",
              "      fill: #1967D2;\n",
              "      height: 32px;\n",
              "      padding: 0 0 0 0;\n",
              "      width: 32px;\n",
              "    }\n",
              "\n",
              "    .colab-df-convert:hover {\n",
              "      background-color: #E2EBFA;\n",
              "      box-shadow: 0px 1px 2px rgba(60, 64, 67, 0.3), 0px 1px 3px 1px rgba(60, 64, 67, 0.15);\n",
              "      fill: #174EA6;\n",
              "    }\n",
              "\n",
              "    .colab-df-buttons div {\n",
              "      margin-bottom: 4px;\n",
              "    }\n",
              "\n",
              "    [theme=dark] .colab-df-convert {\n",
              "      background-color: #3B4455;\n",
              "      fill: #D2E3FC;\n",
              "    }\n",
              "\n",
              "    [theme=dark] .colab-df-convert:hover {\n",
              "      background-color: #434B5C;\n",
              "      box-shadow: 0px 1px 3px 1px rgba(0, 0, 0, 0.15);\n",
              "      filter: drop-shadow(0px 1px 2px rgba(0, 0, 0, 0.3));\n",
              "      fill: #FFFFFF;\n",
              "    }\n",
              "  </style>\n",
              "\n",
              "    <script>\n",
              "      const buttonEl =\n",
              "        document.querySelector('#df-3cba5503-e072-477f-9432-bd1a481774d1 button.colab-df-convert');\n",
              "      buttonEl.style.display =\n",
              "        google.colab.kernel.accessAllowed ? 'block' : 'none';\n",
              "\n",
              "      async function convertToInteractive(key) {\n",
              "        const element = document.querySelector('#df-3cba5503-e072-477f-9432-bd1a481774d1');\n",
              "        const dataTable =\n",
              "          await google.colab.kernel.invokeFunction('convertToInteractive',\n",
              "                                                    [key], {});\n",
              "        if (!dataTable) return;\n",
              "\n",
              "        const docLinkHtml = 'Like what you see? Visit the ' +\n",
              "          '<a target=\"_blank\" href=https://colab.research.google.com/notebooks/data_table.ipynb>data table notebook</a>'\n",
              "          + ' to learn more about interactive tables.';\n",
              "        element.innerHTML = '';\n",
              "        dataTable['output_type'] = 'display_data';\n",
              "        await google.colab.output.renderOutput(dataTable, element);\n",
              "        const docLink = document.createElement('div');\n",
              "        docLink.innerHTML = docLinkHtml;\n",
              "        element.appendChild(docLink);\n",
              "      }\n",
              "    </script>\n",
              "  </div>\n",
              "\n",
              "\n",
              "<div id=\"df-ac161eef-fbb2-42df-9528-014bba6a6a37\">\n",
              "  <button class=\"colab-df-quickchart\" onclick=\"quickchart('df-ac161eef-fbb2-42df-9528-014bba6a6a37')\"\n",
              "            title=\"Suggest charts\"\n",
              "            style=\"display:none;\">\n",
              "\n",
              "<svg xmlns=\"http://www.w3.org/2000/svg\" height=\"24px\"viewBox=\"0 0 24 24\"\n",
              "     width=\"24px\">\n",
              "    <g>\n",
              "        <path d=\"M19 3H5c-1.1 0-2 .9-2 2v14c0 1.1.9 2 2 2h14c1.1 0 2-.9 2-2V5c0-1.1-.9-2-2-2zM9 17H7v-7h2v7zm4 0h-2V7h2v10zm4 0h-2v-4h2v4z\"/>\n",
              "    </g>\n",
              "</svg>\n",
              "  </button>\n",
              "\n",
              "<style>\n",
              "  .colab-df-quickchart {\n",
              "      --bg-color: #E8F0FE;\n",
              "      --fill-color: #1967D2;\n",
              "      --hover-bg-color: #E2EBFA;\n",
              "      --hover-fill-color: #174EA6;\n",
              "      --disabled-fill-color: #AAA;\n",
              "      --disabled-bg-color: #DDD;\n",
              "  }\n",
              "\n",
              "  [theme=dark] .colab-df-quickchart {\n",
              "      --bg-color: #3B4455;\n",
              "      --fill-color: #D2E3FC;\n",
              "      --hover-bg-color: #434B5C;\n",
              "      --hover-fill-color: #FFFFFF;\n",
              "      --disabled-bg-color: #3B4455;\n",
              "      --disabled-fill-color: #666;\n",
              "  }\n",
              "\n",
              "  .colab-df-quickchart {\n",
              "    background-color: var(--bg-color);\n",
              "    border: none;\n",
              "    border-radius: 50%;\n",
              "    cursor: pointer;\n",
              "    display: none;\n",
              "    fill: var(--fill-color);\n",
              "    height: 32px;\n",
              "    padding: 0;\n",
              "    width: 32px;\n",
              "  }\n",
              "\n",
              "  .colab-df-quickchart:hover {\n",
              "    background-color: var(--hover-bg-color);\n",
              "    box-shadow: 0 1px 2px rgba(60, 64, 67, 0.3), 0 1px 3px 1px rgba(60, 64, 67, 0.15);\n",
              "    fill: var(--button-hover-fill-color);\n",
              "  }\n",
              "\n",
              "  .colab-df-quickchart-complete:disabled,\n",
              "  .colab-df-quickchart-complete:disabled:hover {\n",
              "    background-color: var(--disabled-bg-color);\n",
              "    fill: var(--disabled-fill-color);\n",
              "    box-shadow: none;\n",
              "  }\n",
              "\n",
              "  .colab-df-spinner {\n",
              "    border: 2px solid var(--fill-color);\n",
              "    border-color: transparent;\n",
              "    border-bottom-color: var(--fill-color);\n",
              "    animation:\n",
              "      spin 1s steps(1) infinite;\n",
              "  }\n",
              "\n",
              "  @keyframes spin {\n",
              "    0% {\n",
              "      border-color: transparent;\n",
              "      border-bottom-color: var(--fill-color);\n",
              "      border-left-color: var(--fill-color);\n",
              "    }\n",
              "    20% {\n",
              "      border-color: transparent;\n",
              "      border-left-color: var(--fill-color);\n",
              "      border-top-color: var(--fill-color);\n",
              "    }\n",
              "    30% {\n",
              "      border-color: transparent;\n",
              "      border-left-color: var(--fill-color);\n",
              "      border-top-color: var(--fill-color);\n",
              "      border-right-color: var(--fill-color);\n",
              "    }\n",
              "    40% {\n",
              "      border-color: transparent;\n",
              "      border-right-color: var(--fill-color);\n",
              "      border-top-color: var(--fill-color);\n",
              "    }\n",
              "    60% {\n",
              "      border-color: transparent;\n",
              "      border-right-color: var(--fill-color);\n",
              "    }\n",
              "    80% {\n",
              "      border-color: transparent;\n",
              "      border-right-color: var(--fill-color);\n",
              "      border-bottom-color: var(--fill-color);\n",
              "    }\n",
              "    90% {\n",
              "      border-color: transparent;\n",
              "      border-bottom-color: var(--fill-color);\n",
              "    }\n",
              "  }\n",
              "</style>\n",
              "\n",
              "  <script>\n",
              "    async function quickchart(key) {\n",
              "      const quickchartButtonEl =\n",
              "        document.querySelector('#' + key + ' button');\n",
              "      quickchartButtonEl.disabled = true;  // To prevent multiple clicks.\n",
              "      quickchartButtonEl.classList.add('colab-df-spinner');\n",
              "      try {\n",
              "        const charts = await google.colab.kernel.invokeFunction(\n",
              "            'suggestCharts', [key], {});\n",
              "      } catch (error) {\n",
              "        console.error('Error during call to suggestCharts:', error);\n",
              "      }\n",
              "      quickchartButtonEl.classList.remove('colab-df-spinner');\n",
              "      quickchartButtonEl.classList.add('colab-df-quickchart-complete');\n",
              "    }\n",
              "    (() => {\n",
              "      let quickchartButtonEl =\n",
              "        document.querySelector('#df-ac161eef-fbb2-42df-9528-014bba6a6a37 button');\n",
              "      quickchartButtonEl.style.display =\n",
              "        google.colab.kernel.accessAllowed ? 'block' : 'none';\n",
              "    })();\n",
              "  </script>\n",
              "</div>\n",
              "\n",
              "  <div id=\"id_0dd03228-cc76-446e-b231-83b51d3b0681\">\n",
              "    <style>\n",
              "      .colab-df-generate {\n",
              "        background-color: #E8F0FE;\n",
              "        border: none;\n",
              "        border-radius: 50%;\n",
              "        cursor: pointer;\n",
              "        display: none;\n",
              "        fill: #1967D2;\n",
              "        height: 32px;\n",
              "        padding: 0 0 0 0;\n",
              "        width: 32px;\n",
              "      }\n",
              "\n",
              "      .colab-df-generate:hover {\n",
              "        background-color: #E2EBFA;\n",
              "        box-shadow: 0px 1px 2px rgba(60, 64, 67, 0.3), 0px 1px 3px 1px rgba(60, 64, 67, 0.15);\n",
              "        fill: #174EA6;\n",
              "      }\n",
              "\n",
              "      [theme=dark] .colab-df-generate {\n",
              "        background-color: #3B4455;\n",
              "        fill: #D2E3FC;\n",
              "      }\n",
              "\n",
              "      [theme=dark] .colab-df-generate:hover {\n",
              "        background-color: #434B5C;\n",
              "        box-shadow: 0px 1px 3px 1px rgba(0, 0, 0, 0.15);\n",
              "        filter: drop-shadow(0px 1px 2px rgba(0, 0, 0, 0.3));\n",
              "        fill: #FFFFFF;\n",
              "      }\n",
              "    </style>\n",
              "    <button class=\"colab-df-generate\" onclick=\"generateWithVariable('result_df')\"\n",
              "            title=\"Generate code using this dataframe.\"\n",
              "            style=\"display:none;\">\n",
              "\n",
              "  <svg xmlns=\"http://www.w3.org/2000/svg\" height=\"24px\"viewBox=\"0 0 24 24\"\n",
              "       width=\"24px\">\n",
              "    <path d=\"M7,19H8.4L18.45,9,17,7.55,7,17.6ZM5,21V16.75L18.45,3.32a2,2,0,0,1,2.83,0l1.4,1.43a1.91,1.91,0,0,1,.58,1.4,1.91,1.91,0,0,1-.58,1.4L9.25,21ZM18.45,9,17,7.55Zm-12,3A5.31,5.31,0,0,0,4.9,8.1,5.31,5.31,0,0,0,1,6.5,5.31,5.31,0,0,0,4.9,4.9,5.31,5.31,0,0,0,6.5,1,5.31,5.31,0,0,0,8.1,4.9,5.31,5.31,0,0,0,12,6.5,5.46,5.46,0,0,0,6.5,12Z\"/>\n",
              "  </svg>\n",
              "    </button>\n",
              "    <script>\n",
              "      (() => {\n",
              "      const buttonEl =\n",
              "        document.querySelector('#id_0dd03228-cc76-446e-b231-83b51d3b0681 button.colab-df-generate');\n",
              "      buttonEl.style.display =\n",
              "        google.colab.kernel.accessAllowed ? 'block' : 'none';\n",
              "\n",
              "      buttonEl.onclick = () => {\n",
              "        google.colab.notebook.generateWithVariable('result_df');\n",
              "      }\n",
              "      })();\n",
              "    </script>\n",
              "  </div>\n",
              "\n",
              "    </div>\n",
              "  </div>\n"
            ],
            "application/vnd.google.colaboratory.intrinsic+json": {
              "type": "dataframe",
              "variable_name": "result_df",
              "summary": "{\n  \"name\": \"result_df\",\n  \"rows\": 302,\n  \"fields\": [\n    {\n      \"column\": \"user_prompt\",\n      \"properties\": {\n        \"dtype\": \"string\",\n        \"num_unique_values\": 260,\n        \"samples\": [\n          \"Can artificial intelligence develop emotions similar to humans?\",\n          \"How do I control my blood sugar?\",\n          \"How do I set boundaries?\"\n        ],\n        \"semantic_type\": \"\",\n        \"description\": \"\"\n      }\n    },\n    {\n      \"column\": \"url_to_check\",\n      \"properties\": {\n        \"dtype\": \"string\",\n        \"num_unique_values\": 282,\n        \"samples\": [\n          \"https://www.nrdc.org/stories/what-global-warming\",\n          \"https://www.who.int/news-room/questions-and-answers/item/vaccines-and-immunization-what-is-vaccination\",\n          \"https://www.mayoclinic.org/healthy-lifestyle/nutrition-and-healthy-eating/expert-answers/dehydration/faq-20058426\"\n        ],\n        \"semantic_type\": \"\",\n        \"description\": \"\"\n      }\n    },\n    {\n      \"column\": \"func_rating\",\n      \"properties\": {\n        \"dtype\": \"number\",\n        \"std\": 0,\n        \"min\": 0,\n        \"max\": 5,\n        \"num_unique_values\": 6,\n        \"samples\": [\n          2,\n          3,\n          0\n        ],\n        \"semantic_type\": \"\",\n        \"description\": \"\"\n      }\n    },\n    {\n      \"column\": \"custom_rating\",\n      \"properties\": {\n        \"dtype\": \"number\",\n        \"std\": 1,\n        \"min\": 0,\n        \"max\": 5,\n        \"num_unique_values\": 6,\n        \"samples\": [\n          3,\n          4,\n          0\n        ],\n        \"semantic_type\": \"\",\n        \"description\": \"\"\n      }\n    }\n  ]\n}"
            }
          },
          "metadata": {},
          "execution_count": 13
        }
      ]
    },
    {
      "cell_type": "code",
      "source": [
        "#Getting information about the datatypes present in the created dataframe.\n",
        "result_df.info()"
      ],
      "metadata": {
        "colab": {
          "base_uri": "https://localhost:8080/"
        },
        "id": "yy1fSrRYWayV",
        "outputId": "71264472-a17e-454f-8670-39785109bff3"
      },
      "execution_count": 14,
      "outputs": [
        {
          "output_type": "stream",
          "name": "stdout",
          "text": [
            "<class 'pandas.core.frame.DataFrame'>\n",
            "RangeIndex: 302 entries, 0 to 301\n",
            "Data columns (total 4 columns):\n",
            " #   Column         Non-Null Count  Dtype \n",
            "---  ------         --------------  ----- \n",
            " 0   user_prompt    302 non-null    object\n",
            " 1   url_to_check   302 non-null    object\n",
            " 2   func_rating    302 non-null    int64 \n",
            " 3   custom_rating  302 non-null    int64 \n",
            "dtypes: int64(2), object(2)\n",
            "memory usage: 9.6+ KB\n"
          ]
        }
      ]
    },
    {
      "cell_type": "markdown",
      "source": [
        "## 2. Neural Networks using Tensor Flow."
      ],
      "metadata": {
        "id": "psFS4tMpUDeD"
      }
    },
    {
      "cell_type": "markdown",
      "source": [
        "- Importing all libraries required for this deliverable."
      ],
      "metadata": {
        "id": "GewcI5IqVuH9"
      }
    },
    {
      "cell_type": "code",
      "source": [
        "#Importing all the libraries required for this deliverable.\n",
        "import tensorflow as tf\n",
        "from tensorflow.keras.layers import Input, Embedding, Dense, Concatenate, Flatten\n",
        "from tensorflow.keras.models import Model\n",
        "from tensorflow.keras.preprocessing.text import Tokenizer\n",
        "from tensorflow.keras.preprocessing.sequence import pad_sequences\n",
        "import numpy as np\n",
        "import pandas as pd\n",
        ""
      ],
      "metadata": {
        "id": "7r_QdrGhWcgK"
      },
      "execution_count": 15,
      "outputs": []
    },
    {
      "cell_type": "markdown",
      "source": [
        "- Creating the Neural Network Model:"
      ],
      "metadata": {
        "id": "naxHffdBWYE3"
      }
    },
    {
      "cell_type": "code",
      "source": [
        "#Importing the Tensor Flow libraries\n",
        "from tensorflow.keras.models import Model\n",
        "from tensorflow.keras.layers import Input, Embedding, Dense, Concatenate, Flatten\n",
        "\n",
        "# Define function to create the neural network model\n",
        "def create_nn_model(vocab_size: int, embedding_dim: int, max_length: int, num_of_dense: int) -> Model:\n",
        "    \"\"\"\n",
        "    Creates a neural network model that processes user prompts using an embedding layer,\n",
        "    concatenates it with function ratings, and passes through dense layers.\n",
        "\n",
        "    Args:\n",
        "        vocab_size (int): Size of the vocabulary for embedding.\n",
        "        embedding_dim (int): Dimensionality of the embedding layer.\n",
        "        max_length (int): Maximum length of input sequences.\n",
        "        num_of_dense (int): Number of dense layers before concatenation.\n",
        "\n",
        "    Returns:\n",
        "        Model: A compiled TensorFlow model.\n",
        "    \"\"\"\n",
        "    # Text input (user prompt)\n",
        "    text_input = Input(shape=(max_length,), name=\"text_input\")\n",
        "    embedding = Embedding(input_dim=vocab_size, output_dim=embedding_dim, input_length=max_length)(text_input)\n",
        "    flatten = Flatten()(embedding)\n",
        "\n",
        "    # Dense layers for text input\n",
        "    num_neurons = 2**12  # Start with 4096 neurons\n",
        "    x = flatten\n",
        "    for _ in range(num_of_dense):\n",
        "        num_neurons = max(1, int(num_neurons / 2))  # Ensure integer neurons, minimum of 1\n",
        "        x = Dense(num_neurons, activation='relu')(x)\n",
        "\n",
        "    # Numeric input (func_rating)\n",
        "    func_rating_input = Input(shape=(1,), name=\"func_rating_input\")\n",
        "    y = Dense(32, activation='relu')(func_rating_input)\n",
        "\n",
        "    # Concatenate both paths\n",
        "    concatenated = Concatenate()([x, y])\n",
        "    # output = Dense(1, activation='linear', name=\"output\")(concatenated)\n",
        "    output = Dense(6, activation='softmax', name=\"output\")(concatenated)\n",
        "\n",
        "    # Define and compile the model\n",
        "    model = Model(inputs=[text_input, func_rating_input], outputs=output)\n",
        "    model.compile(optimizer='adam', loss='categorical_crossentropy', metrics=['accuracy'])\n",
        "\n",
        "    return model"
      ],
      "metadata": {
        "id": "hRT4FJXTWt7b"
      },
      "execution_count": 16,
      "outputs": []
    },
    {
      "cell_type": "code",
      "source": [
        "#Getting a list of unique values in the \"custom_rating\" column of our csv.\n",
        "result_df[\"custom_rating\"].unique()"
      ],
      "metadata": {
        "colab": {
          "base_uri": "https://localhost:8080/"
        },
        "id": "JQ2TIZfXW1Bx",
        "outputId": "9ef7724a-73b9-4a5d-fa4e-946933734889"
      },
      "execution_count": 12,
      "outputs": [
        {
          "output_type": "execute_result",
          "data": {
            "text/plain": [
              "array([3, 4, 2, 5, 1, 0])"
            ]
          },
          "metadata": {},
          "execution_count": 12
        }
      ]
    },
    {
      "cell_type": "code",
      "source": [
        "#Printing the shape of the dataframe.\n",
        "result_df.shape"
      ],
      "metadata": {
        "colab": {
          "base_uri": "https://localhost:8080/"
        },
        "id": "vtKwmXkBW7yQ",
        "outputId": "cfa61303-cd81-4fb0-d2b3-78e6d3a8e0ad"
      },
      "execution_count": 17,
      "outputs": [
        {
          "output_type": "execute_result",
          "data": {
            "text/plain": [
              "(302, 4)"
            ]
          },
          "metadata": {},
          "execution_count": 17
        }
      ]
    },
    {
      "cell_type": "markdown",
      "source": [
        "## 3. Tokenizer for the Neural Networks."
      ],
      "metadata": {
        "id": "hauOUUKTavAD"
      }
    },
    {
      "cell_type": "code",
      "source": [
        "# Tokenize and prepare data\n",
        "tokenizer = Tokenizer()\n",
        "tokenizer.fit_on_texts(result_df[\"user_prompt\"])\n",
        "vocab_size = len(tokenizer.word_index) + 1\n",
        "max_length = max([len(x.split()) for x in result_df[\"user_prompt\"]])\n",
        "embedding_dim = 16\n",
        "\n",
        "# Convert text data into sequences\n",
        "X_text = tokenizer.texts_to_sequences(result_df[\"user_prompt\"])\n",
        "X_text = pad_sequences(X_text, maxlen=max_length, padding='post')\n",
        "print(X_text.shape)\n",
        "\n",
        "# Numeric input\n",
        "X_func_rating = np.array(result_df[\"func_rating\"]).reshape(-1, 1)\n",
        "print(X_func_rating.shape)\n",
        "\n",
        "# Target variable\n",
        "y = np.array(result_df[\"custom_rating\"]).reshape(-1, 1)\n",
        "print(y.shape)"
      ],
      "metadata": {
        "colab": {
          "base_uri": "https://localhost:8080/"
        },
        "id": "58GFfMbsXAr5",
        "outputId": "9b81c22b-81ee-4291-f60d-0c6799521be8"
      },
      "execution_count": 18,
      "outputs": [
        {
          "output_type": "stream",
          "name": "stdout",
          "text": [
            "(302, 26)\n",
            "(302, 1)\n",
            "(302, 1)\n"
          ]
        }
      ]
    },
    {
      "cell_type": "code",
      "source": [
        "#Printing the unique values again.\n",
        "result_df[\"custom_rating\"].unique()"
      ],
      "metadata": {
        "colab": {
          "base_uri": "https://localhost:8080/"
        },
        "id": "we1jhPy2XD1g",
        "outputId": "c11753c2-2e17-4a2f-932d-1c5163ad85e8"
      },
      "execution_count": 19,
      "outputs": [
        {
          "output_type": "execute_result",
          "data": {
            "text/plain": [
              "array([3, 4, 2, 5, 1, 0])"
            ]
          },
          "metadata": {},
          "execution_count": 19
        }
      ]
    },
    {
      "cell_type": "markdown",
      "source": [
        "- Converting \"to_categorical\" using the keras package."
      ],
      "metadata": {
        "id": "ArtpGomfa9uo"
      }
    },
    {
      "cell_type": "code",
      "source": [
        "#Converting using one hot encoding.\n",
        "from keras.utils import to_categorical\n",
        "\n",
        "# Assuming y is your array of class labels shaped as (20, 1)\n",
        "# Convert labels to one-hot encoding\n",
        "y_one_hot = to_categorical(y)\n",
        "\n",
        "# Check the new shape of y_one_hot\n",
        "print(y_one_hot.shape)"
      ],
      "metadata": {
        "colab": {
          "base_uri": "https://localhost:8080/"
        },
        "id": "ESqD1saJXQ2D",
        "outputId": "3351b5ed-8acf-437f-9906-db35aed15763"
      },
      "execution_count": 20,
      "outputs": [
        {
          "output_type": "stream",
          "name": "stdout",
          "text": [
            "(302, 6)\n"
          ]
        }
      ]
    },
    {
      "cell_type": "markdown",
      "source": [
        "- Creating the model."
      ],
      "metadata": {
        "id": "evhCwDYscqMF"
      }
    },
    {
      "cell_type": "code",
      "source": [
        "# Create the model\n",
        "num_of_dense_layers = 3  # Example: 2 dense layers before concatenation\n",
        "model = create_nn_model(vocab_size, embedding_dim, max_length, num_of_dense_layers)"
      ],
      "metadata": {
        "id": "I2TeII9sXTmH"
      },
      "execution_count": 23,
      "outputs": []
    },
    {
      "cell_type": "markdown",
      "source": [
        "- Training the model."
      ],
      "metadata": {
        "id": "MsYCuis-cw1T"
      }
    },
    {
      "cell_type": "code",
      "source": [
        "#Training the model.\n",
        "%%time\n",
        "\n",
        "# Train the model\n",
        "model.fit(\n",
        "    {\"text_input\": X_text, \"func_rating_input\": X_func_rating},\n",
        "    y_one_hot,\n",
        "    epochs=80,\n",
        "    batch_size=2,\n",
        "    validation_split=0.1,\n",
        "    verbose=2\n",
        ")\n",
        ""
      ],
      "metadata": {
        "colab": {
          "base_uri": "https://localhost:8080/"
        },
        "id": "fVZdsokBXV9u",
        "outputId": "6d1b6c29-97ad-4ed5-f5d1-9345f9129979"
      },
      "execution_count": 24,
      "outputs": [
        {
          "output_type": "stream",
          "name": "stdout",
          "text": [
            "Epoch 1/80\n",
            "136/136 - 10s - 75ms/step - accuracy: 0.5424 - loss: 1.3711 - val_accuracy: 0.2581 - val_loss: 1.8397\n",
            "Epoch 2/80\n",
            "136/136 - 7s - 51ms/step - accuracy: 0.5793 - loss: 1.1765 - val_accuracy: 0.2581 - val_loss: 1.8809\n",
            "Epoch 3/80\n",
            "136/136 - 10s - 76ms/step - accuracy: 0.6605 - loss: 0.8655 - val_accuracy: 0.2903 - val_loss: 1.7194\n",
            "Epoch 4/80\n",
            "136/136 - 10s - 75ms/step - accuracy: 0.7712 - loss: 0.6721 - val_accuracy: 0.3226 - val_loss: 2.2333\n",
            "Epoch 5/80\n",
            "136/136 - 10s - 75ms/step - accuracy: 0.8118 - loss: 0.6007 - val_accuracy: 0.3226 - val_loss: 1.9675\n",
            "Epoch 6/80\n",
            "136/136 - 11s - 84ms/step - accuracy: 0.8413 - loss: 0.4440 - val_accuracy: 0.3871 - val_loss: 2.7928\n",
            "Epoch 7/80\n",
            "136/136 - 10s - 74ms/step - accuracy: 0.8413 - loss: 0.4722 - val_accuracy: 0.3548 - val_loss: 2.5878\n",
            "Epoch 8/80\n",
            "136/136 - 10s - 70ms/step - accuracy: 0.9041 - loss: 0.2987 - val_accuracy: 0.2903 - val_loss: 2.9168\n",
            "Epoch 9/80\n",
            "136/136 - 10s - 74ms/step - accuracy: 0.9188 - loss: 0.2399 - val_accuracy: 0.3548 - val_loss: 3.1211\n",
            "Epoch 10/80\n",
            "136/136 - 10s - 76ms/step - accuracy: 0.9004 - loss: 0.2104 - val_accuracy: 0.3226 - val_loss: 3.2510\n",
            "Epoch 11/80\n",
            "136/136 - 11s - 78ms/step - accuracy: 0.9151 - loss: 0.2105 - val_accuracy: 0.3548 - val_loss: 3.3601\n",
            "Epoch 12/80\n",
            "136/136 - 10s - 77ms/step - accuracy: 0.9225 - loss: 0.1607 - val_accuracy: 0.2903 - val_loss: 4.5831\n",
            "Epoch 13/80\n",
            "136/136 - 7s - 54ms/step - accuracy: 0.8782 - loss: 0.3539 - val_accuracy: 0.2258 - val_loss: 5.6930\n",
            "Epoch 14/80\n",
            "136/136 - 10s - 75ms/step - accuracy: 0.9299 - loss: 0.2353 - val_accuracy: 0.3226 - val_loss: 4.5070\n",
            "Epoch 15/80\n",
            "136/136 - 8s - 58ms/step - accuracy: 0.9225 - loss: 0.1728 - val_accuracy: 0.3226 - val_loss: 3.3579\n",
            "Epoch 16/80\n",
            "136/136 - 10s - 74ms/step - accuracy: 0.9225 - loss: 0.1737 - val_accuracy: 0.3871 - val_loss: 4.4478\n",
            "Epoch 17/80\n",
            "136/136 - 10s - 72ms/step - accuracy: 0.9299 - loss: 0.1429 - val_accuracy: 0.3548 - val_loss: 4.1854\n",
            "Epoch 18/80\n",
            "136/136 - 8s - 55ms/step - accuracy: 0.9262 - loss: 0.1331 - val_accuracy: 0.3548 - val_loss: 4.6702\n",
            "Epoch 19/80\n",
            "136/136 - 11s - 80ms/step - accuracy: 0.9336 - loss: 0.1250 - val_accuracy: 0.3871 - val_loss: 5.0763\n",
            "Epoch 20/80\n",
            "136/136 - 9s - 68ms/step - accuracy: 0.9188 - loss: 0.1218 - val_accuracy: 0.3871 - val_loss: 5.4208\n",
            "Epoch 21/80\n",
            "136/136 - 10s - 75ms/step - accuracy: 0.9225 - loss: 0.1187 - val_accuracy: 0.3871 - val_loss: 5.3143\n",
            "Epoch 22/80\n",
            "136/136 - 10s - 74ms/step - accuracy: 0.9225 - loss: 0.1216 - val_accuracy: 0.3871 - val_loss: 5.5293\n",
            "Epoch 23/80\n",
            "136/136 - 10s - 77ms/step - accuracy: 0.9225 - loss: 0.1146 - val_accuracy: 0.3548 - val_loss: 6.0209\n",
            "Epoch 24/80\n",
            "136/136 - 11s - 78ms/step - accuracy: 0.9225 - loss: 0.1160 - val_accuracy: 0.3871 - val_loss: 5.9201\n",
            "Epoch 25/80\n",
            "136/136 - 10s - 75ms/step - accuracy: 0.9336 - loss: 0.1125 - val_accuracy: 0.3871 - val_loss: 6.2093\n",
            "Epoch 26/80\n",
            "136/136 - 7s - 52ms/step - accuracy: 0.9188 - loss: 0.1112 - val_accuracy: 0.3548 - val_loss: 6.3152\n",
            "Epoch 27/80\n",
            "136/136 - 8s - 58ms/step - accuracy: 0.9262 - loss: 0.1173 - val_accuracy: 0.3548 - val_loss: 6.1422\n",
            "Epoch 28/80\n",
            "136/136 - 8s - 58ms/step - accuracy: 0.9299 - loss: 0.1140 - val_accuracy: 0.3548 - val_loss: 6.2747\n",
            "Epoch 29/80\n",
            "136/136 - 10s - 70ms/step - accuracy: 0.9225 - loss: 0.1147 - val_accuracy: 0.3871 - val_loss: 6.7494\n",
            "Epoch 30/80\n",
            "136/136 - 8s - 56ms/step - accuracy: 0.9336 - loss: 0.1122 - val_accuracy: 0.3871 - val_loss: 6.8202\n",
            "Epoch 31/80\n",
            "136/136 - 11s - 78ms/step - accuracy: 0.9151 - loss: 0.1145 - val_accuracy: 0.3871 - val_loss: 6.5046\n",
            "Epoch 32/80\n",
            "136/136 - 10s - 72ms/step - accuracy: 0.9262 - loss: 0.1120 - val_accuracy: 0.3871 - val_loss: 6.4790\n",
            "Epoch 33/80\n",
            "136/136 - 10s - 71ms/step - accuracy: 0.9225 - loss: 0.1152 - val_accuracy: 0.3548 - val_loss: 6.9464\n",
            "Epoch 34/80\n",
            "136/136 - 8s - 57ms/step - accuracy: 0.9225 - loss: 0.1092 - val_accuracy: 0.3548 - val_loss: 6.6241\n",
            "Epoch 35/80\n",
            "136/136 - 10s - 76ms/step - accuracy: 0.9410 - loss: 0.1036 - val_accuracy: 0.3548 - val_loss: 7.7231\n",
            "Epoch 36/80\n",
            "136/136 - 10s - 71ms/step - accuracy: 0.9262 - loss: 0.1171 - val_accuracy: 0.3226 - val_loss: 7.4460\n",
            "Epoch 37/80\n",
            "136/136 - 8s - 56ms/step - accuracy: 0.9151 - loss: 0.2276 - val_accuracy: 0.2581 - val_loss: 11.3683\n",
            "Epoch 38/80\n",
            "136/136 - 10s - 75ms/step - accuracy: 0.8635 - loss: 0.5697 - val_accuracy: 0.3226 - val_loss: 6.4605\n",
            "Epoch 39/80\n",
            "136/136 - 10s - 76ms/step - accuracy: 0.8561 - loss: 0.4593 - val_accuracy: 0.2903 - val_loss: 5.8554\n",
            "Epoch 40/80\n",
            "136/136 - 10s - 71ms/step - accuracy: 0.9004 - loss: 0.1952 - val_accuracy: 0.3226 - val_loss: 5.1291\n",
            "Epoch 41/80\n",
            "136/136 - 8s - 59ms/step - accuracy: 0.9004 - loss: 0.1422 - val_accuracy: 0.3226 - val_loss: 6.9801\n",
            "Epoch 42/80\n",
            "136/136 - 8s - 56ms/step - accuracy: 0.9299 - loss: 0.1228 - val_accuracy: 0.3226 - val_loss: 7.3622\n",
            "Epoch 43/80\n",
            "136/136 - 10s - 70ms/step - accuracy: 0.9262 - loss: 0.1139 - val_accuracy: 0.3226 - val_loss: 7.7048\n",
            "Epoch 44/80\n",
            "136/136 - 10s - 75ms/step - accuracy: 0.9373 - loss: 0.1128 - val_accuracy: 0.3548 - val_loss: 7.7434\n",
            "Epoch 45/80\n",
            "136/136 - 11s - 77ms/step - accuracy: 0.9299 - loss: 0.1145 - val_accuracy: 0.3548 - val_loss: 8.0908\n",
            "Epoch 46/80\n",
            "136/136 - 7s - 54ms/step - accuracy: 0.9446 - loss: 0.1061 - val_accuracy: 0.3548 - val_loss: 8.2301\n",
            "Epoch 47/80\n",
            "136/136 - 7s - 51ms/step - accuracy: 0.9373 - loss: 0.1082 - val_accuracy: 0.3548 - val_loss: 8.5829\n",
            "Epoch 48/80\n",
            "136/136 - 8s - 55ms/step - accuracy: 0.9410 - loss: 0.1068 - val_accuracy: 0.3548 - val_loss: 8.5071\n",
            "Epoch 49/80\n",
            "136/136 - 10s - 75ms/step - accuracy: 0.9410 - loss: 0.1055 - val_accuracy: 0.3548 - val_loss: 8.0947\n",
            "Epoch 50/80\n",
            "136/136 - 10s - 73ms/step - accuracy: 0.9299 - loss: 0.1054 - val_accuracy: 0.3548 - val_loss: 8.2766\n",
            "Epoch 51/80\n",
            "136/136 - 10s - 75ms/step - accuracy: 0.9410 - loss: 0.1029 - val_accuracy: 0.3548 - val_loss: 8.4659\n",
            "Epoch 52/80\n",
            "136/136 - 10s - 77ms/step - accuracy: 0.9373 - loss: 0.1001 - val_accuracy: 0.3548 - val_loss: 8.7076\n",
            "Epoch 53/80\n",
            "136/136 - 10s - 76ms/step - accuracy: 0.9373 - loss: 0.1023 - val_accuracy: 0.3548 - val_loss: 8.7463\n",
            "Epoch 54/80\n",
            "136/136 - 11s - 78ms/step - accuracy: 0.9336 - loss: 0.1009 - val_accuracy: 0.3226 - val_loss: 8.6507\n",
            "Epoch 55/80\n",
            "136/136 - 10s - 71ms/step - accuracy: 0.9373 - loss: 0.1066 - val_accuracy: 0.3548 - val_loss: 8.9128\n",
            "Epoch 56/80\n",
            "136/136 - 10s - 74ms/step - accuracy: 0.9299 - loss: 0.0970 - val_accuracy: 0.3548 - val_loss: 8.7924\n",
            "Epoch 57/80\n",
            "136/136 - 10s - 74ms/step - accuracy: 0.9410 - loss: 0.1007 - val_accuracy: 0.3548 - val_loss: 8.8222\n",
            "Epoch 58/80\n",
            "136/136 - 8s - 58ms/step - accuracy: 0.9483 - loss: 0.0994 - val_accuracy: 0.3226 - val_loss: 9.2095\n",
            "Epoch 59/80\n",
            "136/136 - 7s - 52ms/step - accuracy: 0.9483 - loss: 0.1000 - val_accuracy: 0.3226 - val_loss: 9.0048\n",
            "Epoch 60/80\n",
            "136/136 - 11s - 78ms/step - accuracy: 0.9373 - loss: 0.1008 - val_accuracy: 0.3548 - val_loss: 9.2711\n",
            "Epoch 61/80\n",
            "136/136 - 10s - 74ms/step - accuracy: 0.9373 - loss: 0.1016 - val_accuracy: 0.3226 - val_loss: 8.9012\n",
            "Epoch 62/80\n",
            "136/136 - 11s - 78ms/step - accuracy: 0.9373 - loss: 0.1006 - val_accuracy: 0.3548 - val_loss: 8.6242\n",
            "Epoch 63/80\n",
            "136/136 - 10s - 76ms/step - accuracy: 0.9373 - loss: 0.1501 - val_accuracy: 0.3871 - val_loss: 8.4363\n",
            "Epoch 64/80\n",
            "136/136 - 10s - 75ms/step - accuracy: 0.8708 - loss: 0.4410 - val_accuracy: 0.2903 - val_loss: 14.9281\n",
            "Epoch 65/80\n",
            "136/136 - 10s - 70ms/step - accuracy: 0.8561 - loss: 0.7156 - val_accuracy: 0.2903 - val_loss: 3.6412\n",
            "Epoch 66/80\n",
            "136/136 - 8s - 58ms/step - accuracy: 0.9188 - loss: 0.1962 - val_accuracy: 0.2581 - val_loss: 8.5136\n",
            "Epoch 67/80\n",
            "136/136 - 10s - 76ms/step - accuracy: 0.9336 - loss: 0.1275 - val_accuracy: 0.3226 - val_loss: 8.1698\n",
            "Epoch 68/80\n",
            "136/136 - 10s - 73ms/step - accuracy: 0.9446 - loss: 0.1029 - val_accuracy: 0.3226 - val_loss: 8.6935\n",
            "Epoch 69/80\n",
            "136/136 - 10s - 71ms/step - accuracy: 0.9410 - loss: 0.0975 - val_accuracy: 0.3226 - val_loss: 8.9752\n",
            "Epoch 70/80\n",
            "136/136 - 10s - 75ms/step - accuracy: 0.9446 - loss: 0.0970 - val_accuracy: 0.3548 - val_loss: 9.2459\n",
            "Epoch 71/80\n",
            "136/136 - 10s - 75ms/step - accuracy: 0.9520 - loss: 0.0982 - val_accuracy: 0.3548 - val_loss: 9.4018\n",
            "Epoch 72/80\n",
            "136/136 - 8s - 56ms/step - accuracy: 0.9446 - loss: 0.0974 - val_accuracy: 0.3871 - val_loss: 9.7947\n",
            "Epoch 73/80\n",
            "136/136 - 10s - 71ms/step - accuracy: 0.9410 - loss: 0.0958 - val_accuracy: 0.3871 - val_loss: 9.8867\n",
            "Epoch 74/80\n",
            "136/136 - 8s - 58ms/step - accuracy: 0.9520 - loss: 0.0939 - val_accuracy: 0.3871 - val_loss: 9.9269\n",
            "Epoch 75/80\n",
            "136/136 - 7s - 55ms/step - accuracy: 0.9446 - loss: 0.0950 - val_accuracy: 0.3871 - val_loss: 10.1777\n",
            "Epoch 76/80\n",
            "136/136 - 10s - 75ms/step - accuracy: 0.9410 - loss: 0.0994 - val_accuracy: 0.3871 - val_loss: 10.2934\n",
            "Epoch 77/80\n",
            "136/136 - 8s - 58ms/step - accuracy: 0.9446 - loss: 0.0941 - val_accuracy: 0.3871 - val_loss: 10.4136\n",
            "Epoch 78/80\n",
            "136/136 - 10s - 75ms/step - accuracy: 0.9483 - loss: 0.0940 - val_accuracy: 0.3871 - val_loss: 10.4235\n",
            "Epoch 79/80\n",
            "136/136 - 7s - 52ms/step - accuracy: 0.9483 - loss: 0.0946 - val_accuracy: 0.3871 - val_loss: 10.4226\n",
            "Epoch 80/80\n",
            "136/136 - 8s - 59ms/step - accuracy: 0.9446 - loss: 0.0959 - val_accuracy: 0.3871 - val_loss: 10.5452\n",
            "CPU times: user 15min 5s, sys: 1min 51s, total: 16min 57s\n",
            "Wall time: 12min 30s\n"
          ]
        },
        {
          "output_type": "execute_result",
          "data": {
            "text/plain": [
              "<keras.src.callbacks.history.History at 0x7a142d5630d0>"
            ]
          },
          "metadata": {},
          "execution_count": 24
        }
      ]
    },
    {
      "cell_type": "markdown",
      "source": [
        "- Plotting a graph to depict the training and validation error."
      ],
      "metadata": {
        "id": "Ut6pEtVSgG12"
      }
    },
    {
      "cell_type": "code",
      "source": [
        "#Plotting a graph to depict the training and validation error.\n",
        "import matplotlib.pyplot as plt\n",
        "\n",
        "plt.plot(model.history.history['loss'])\n",
        "plt.plot(model.history.history['val_loss'])\n",
        "plt.title('model loss')\n",
        "plt.ylabel('loss')\n",
        "plt.xlabel('epoch')\n",
        "plt.legend(['train', 'val'], loc='upper left')\n",
        "plt.show()"
      ],
      "metadata": {
        "colab": {
          "base_uri": "https://localhost:8080/",
          "height": 472
        },
        "id": "qT2HCpL9XZ4p",
        "outputId": "9b2c567e-a6c2-4201-d48b-9c0041f03669"
      },
      "execution_count": 25,
      "outputs": [
        {
          "output_type": "display_data",
          "data": {
            "text/plain": [
              "<Figure size 640x480 with 1 Axes>"
            ],
            "image/png": "[encoded data removed]"
          },
          "metadata": {}
        }
      ]
    },
    {
      "cell_type": "markdown",
      "source": [
        "- Displaying the summary of the model."
      ],
      "metadata": {
        "id": "XiQfgMbrgXus"
      }
    },
    {
      "cell_type": "code",
      "source": [
        "#Displaying the model summary\n",
        "model.summary()"
      ],
      "metadata": {
        "colab": {
          "base_uri": "https://localhost:8080/",
          "height": 500
        },
        "id": "CyLfFb9CXo5W",
        "outputId": "b1edc1f6-b04e-4d58-dc86-03c00087f95c"
      },
      "execution_count": 26,
      "outputs": [
        {
          "output_type": "display_data",
          "data": {
            "text/plain": [
              "\u001b[1mModel: \"functional_2\"\u001b[0m\n"
            ],
            "text/html": [
              "<pre style=\"white-space:pre;overflow-x:auto;line-height:normal;font-family:Menlo,'DejaVu Sans Mono',consolas,'Courier New',monospace\"><span style=\"font-weight: bold\">Model: \"functional_2\"</span>\n",
              "</pre>\n"
            ]
          },
          "metadata": {}
        },
        {
          "output_type": "display_data",
          "data": {
            "text/plain": [
              "┏━━━━━━━━━━━━━━━━━━━━━━━━━━━┳━━━━━━━━━━━━━━━━━━━━━━━━┳━━━━━━━━━━━━━━━━┳━━━━━━━━━━━━━━━━━━━━━━━━┓\n",
              "┃\u001b[1m \u001b[0m\u001b[1mLayer (type)             \u001b[0m\u001b[1m \u001b[0m┃\u001b[1m \u001b[0m\u001b[1mOutput Shape          \u001b[0m\u001b[1m \u001b[0m┃\u001b[1m \u001b[0m\u001b[1m       Param #\u001b[0m\u001b[1m \u001b[0m┃\u001b[1m \u001b[0m\u001b[1mConnected to          \u001b[0m\u001b[1m \u001b[0m┃\n",
              "┡━━━━━━━━━━━━━━━━━━━━━━━━━━━╇━━━━━━━━━━━━━━━━━━━━━━━━╇━━━━━━━━━━━━━━━━╇━━━━━━━━━━━━━━━━━━━━━━━━┩\n",
              "│ text_input (\u001b[38;5;33mInputLayer\u001b[0m)   │ (\u001b[38;5;45mNone\u001b[0m, \u001b[38;5;34m26\u001b[0m)             │              \u001b[38;5;34m0\u001b[0m │ -                      │\n",
              "├───────────────────────────┼────────────────────────┼────────────────┼────────────────────────┤\n",
              "│ embedding_2 (\u001b[38;5;33mEmbedding\u001b[0m)   │ (\u001b[38;5;45mNone\u001b[0m, \u001b[38;5;34m26\u001b[0m, \u001b[38;5;34m16\u001b[0m)         │         \u001b[38;5;34m11,296\u001b[0m │ text_input[\u001b[38;5;34m0\u001b[0m][\u001b[38;5;34m0\u001b[0m]       │\n",
              "├───────────────────────────┼────────────────────────┼────────────────┼────────────────────────┤\n",
              "│ flatten_2 (\u001b[38;5;33mFlatten\u001b[0m)       │ (\u001b[38;5;45mNone\u001b[0m, \u001b[38;5;34m416\u001b[0m)            │              \u001b[38;5;34m0\u001b[0m │ embedding_2[\u001b[38;5;34m0\u001b[0m][\u001b[38;5;34m0\u001b[0m]      │\n",
              "├───────────────────────────┼────────────────────────┼────────────────┼────────────────────────┤\n",
              "│ dense_8 (\u001b[38;5;33mDense\u001b[0m)           │ (\u001b[38;5;45mNone\u001b[0m, \u001b[38;5;34m2048\u001b[0m)           │        \u001b[38;5;34m854,016\u001b[0m │ flatten_2[\u001b[38;5;34m0\u001b[0m][\u001b[38;5;34m0\u001b[0m]        │\n",
              "├───────────────────────────┼────────────────────────┼────────────────┼────────────────────────┤\n",
              "│ dense_9 (\u001b[38;5;33mDense\u001b[0m)           │ (\u001b[38;5;45mNone\u001b[0m, \u001b[38;5;34m1024\u001b[0m)           │      \u001b[38;5;34m2,098,176\u001b[0m │ dense_8[\u001b[38;5;34m0\u001b[0m][\u001b[38;5;34m0\u001b[0m]          │\n",
              "├───────────────────────────┼────────────────────────┼────────────────┼────────────────────────┤\n",
              "│ func_rating_input         │ (\u001b[38;5;45mNone\u001b[0m, \u001b[38;5;34m1\u001b[0m)              │              \u001b[38;5;34m0\u001b[0m │ -                      │\n",
              "│ (\u001b[38;5;33mInputLayer\u001b[0m)              │                        │                │                        │\n",
              "├───────────────────────────┼────────────────────────┼────────────────┼────────────────────────┤\n",
              "│ dense_10 (\u001b[38;5;33mDense\u001b[0m)          │ (\u001b[38;5;45mNone\u001b[0m, \u001b[38;5;34m512\u001b[0m)            │        \u001b[38;5;34m524,800\u001b[0m │ dense_9[\u001b[38;5;34m0\u001b[0m][\u001b[38;5;34m0\u001b[0m]          │\n",
              "├───────────────────────────┼────────────────────────┼────────────────┼────────────────────────┤\n",
              "│ dense_11 (\u001b[38;5;33mDense\u001b[0m)          │ (\u001b[38;5;45mNone\u001b[0m, \u001b[38;5;34m32\u001b[0m)             │             \u001b[38;5;34m64\u001b[0m │ func_rating_input[\u001b[38;5;34m0\u001b[0m][\u001b[38;5;34m…\u001b[0m │\n",
              "├───────────────────────────┼────────────────────────┼────────────────┼────────────────────────┤\n",
              "│ concatenate_2             │ (\u001b[38;5;45mNone\u001b[0m, \u001b[38;5;34m544\u001b[0m)            │              \u001b[38;5;34m0\u001b[0m │ dense_10[\u001b[38;5;34m0\u001b[0m][\u001b[38;5;34m0\u001b[0m],        │\n",
              "│ (\u001b[38;5;33mConcatenate\u001b[0m)             │                        │                │ dense_11[\u001b[38;5;34m0\u001b[0m][\u001b[38;5;34m0\u001b[0m]         │\n",
              "├───────────────────────────┼────────────────────────┼────────────────┼────────────────────────┤\n",
              "│ output (\u001b[38;5;33mDense\u001b[0m)            │ (\u001b[38;5;45mNone\u001b[0m, \u001b[38;5;34m6\u001b[0m)              │          \u001b[38;5;34m3,270\u001b[0m │ concatenate_2[\u001b[38;5;34m0\u001b[0m][\u001b[38;5;34m0\u001b[0m]    │\n",
              "└───────────────────────────┴────────────────────────┴────────────────┴────────────────────────┘\n"
            ],
            "text/html": [
              "<pre style=\"white-space:pre;overflow-x:auto;line-height:normal;font-family:Menlo,'DejaVu Sans Mono',consolas,'Courier New',monospace\">┏━━━━━━━━━━━━━━━━━━━━━━━━━━━┳━━━━━━━━━━━━━━━━━━━━━━━━┳━━━━━━━━━━━━━━━━┳━━━━━━━━━━━━━━━━━━━━━━━━┓\n",
              "┃<span style=\"font-weight: bold\"> Layer (type)              </span>┃<span style=\"font-weight: bold\"> Output Shape           </span>┃<span style=\"font-weight: bold\">        Param # </span>┃<span style=\"font-weight: bold\"> Connected to           </span>┃\n",
              "┡━━━━━━━━━━━━━━━━━━━━━━━━━━━╇━━━━━━━━━━━━━━━━━━━━━━━━╇━━━━━━━━━━━━━━━━╇━━━━━━━━━━━━━━━━━━━━━━━━┩\n",
              "│ text_input (<span style=\"color: #0087ff; text-decoration-color: #0087ff\">InputLayer</span>)   │ (<span style=\"color: #00d7ff; text-decoration-color: #00d7ff\">None</span>, <span style=\"color: #00af00; text-decoration-color: #00af00\">26</span>)             │              <span style=\"color: #00af00; text-decoration-color: #00af00\">0</span> │ -                      │\n",
              "├───────────────────────────┼────────────────────────┼────────────────┼────────────────────────┤\n",
              "│ embedding_2 (<span style=\"color: #0087ff; text-decoration-color: #0087ff\">Embedding</span>)   │ (<span style=\"color: #00d7ff; text-decoration-color: #00d7ff\">None</span>, <span style=\"color: #00af00; text-decoration-color: #00af00\">26</span>, <span style=\"color: #00af00; text-decoration-color: #00af00\">16</span>)         │         <span style=\"color: #00af00; text-decoration-color: #00af00\">11,296</span> │ text_input[<span style=\"color: #00af00; text-decoration-color: #00af00\">0</span>][<span style=\"color: #00af00; text-decoration-color: #00af00\">0</span>]       │\n",
              "├───────────────────────────┼────────────────────────┼────────────────┼────────────────────────┤\n",
              "│ flatten_2 (<span style=\"color: #0087ff; text-decoration-color: #0087ff\">Flatten</span>)       │ (<span style=\"color: #00d7ff; text-decoration-color: #00d7ff\">None</span>, <span style=\"color: #00af00; text-decoration-color: #00af00\">416</span>)            │              <span style=\"color: #00af00; text-decoration-color: #00af00\">0</span> │ embedding_2[<span style=\"color: #00af00; text-decoration-color: #00af00\">0</span>][<span style=\"color: #00af00; text-decoration-color: #00af00\">0</span>]      │\n",
              "├───────────────────────────┼────────────────────────┼────────────────┼────────────────────────┤\n",
              "│ dense_8 (<span style=\"color: #0087ff; text-decoration-color: #0087ff\">Dense</span>)           │ (<span style=\"color: #00d7ff; text-decoration-color: #00d7ff\">None</span>, <span style=\"color: #00af00; text-decoration-color: #00af00\">2048</span>)           │        <span style=\"color: #00af00; text-decoration-color: #00af00\">854,016</span> │ flatten_2[<span style=\"color: #00af00; text-decoration-color: #00af00\">0</span>][<span style=\"color: #00af00; text-decoration-color: #00af00\">0</span>]        │\n",
              "├───────────────────────────┼────────────────────────┼────────────────┼────────────────────────┤\n",
              "│ dense_9 (<span style=\"color: #0087ff; text-decoration-color: #0087ff\">Dense</span>)           │ (<span style=\"color: #00d7ff; text-decoration-color: #00d7ff\">None</span>, <span style=\"color: #00af00; text-decoration-color: #00af00\">1024</span>)           │      <span style=\"color: #00af00; text-decoration-color: #00af00\">2,098,176</span> │ dense_8[<span style=\"color: #00af00; text-decoration-color: #00af00\">0</span>][<span style=\"color: #00af00; text-decoration-color: #00af00\">0</span>]          │\n",
              "├───────────────────────────┼────────────────────────┼────────────────┼────────────────────────┤\n",
              "│ func_rating_input         │ (<span style=\"color: #00d7ff; text-decoration-color: #00d7ff\">None</span>, <span style=\"color: #00af00; text-decoration-color: #00af00\">1</span>)              │              <span style=\"color: #00af00; text-decoration-color: #00af00\">0</span> │ -                      │\n",
              "│ (<span style=\"color: #0087ff; text-decoration-color: #0087ff\">InputLayer</span>)              │                        │                │                        │\n",
              "├───────────────────────────┼────────────────────────┼────────────────┼────────────────────────┤\n",
              "│ dense_10 (<span style=\"color: #0087ff; text-decoration-color: #0087ff\">Dense</span>)          │ (<span style=\"color: #00d7ff; text-decoration-color: #00d7ff\">None</span>, <span style=\"color: #00af00; text-decoration-color: #00af00\">512</span>)            │        <span style=\"color: #00af00; text-decoration-color: #00af00\">524,800</span> │ dense_9[<span style=\"color: #00af00; text-decoration-color: #00af00\">0</span>][<span style=\"color: #00af00; text-decoration-color: #00af00\">0</span>]          │\n",
              "├───────────────────────────┼────────────────────────┼────────────────┼────────────────────────┤\n",
              "│ dense_11 (<span style=\"color: #0087ff; text-decoration-color: #0087ff\">Dense</span>)          │ (<span style=\"color: #00d7ff; text-decoration-color: #00d7ff\">None</span>, <span style=\"color: #00af00; text-decoration-color: #00af00\">32</span>)             │             <span style=\"color: #00af00; text-decoration-color: #00af00\">64</span> │ func_rating_input[<span style=\"color: #00af00; text-decoration-color: #00af00\">0</span>][<span style=\"color: #00af00; text-decoration-color: #00af00\">…</span> │\n",
              "├───────────────────────────┼────────────────────────┼────────────────┼────────────────────────┤\n",
              "│ concatenate_2             │ (<span style=\"color: #00d7ff; text-decoration-color: #00d7ff\">None</span>, <span style=\"color: #00af00; text-decoration-color: #00af00\">544</span>)            │              <span style=\"color: #00af00; text-decoration-color: #00af00\">0</span> │ dense_10[<span style=\"color: #00af00; text-decoration-color: #00af00\">0</span>][<span style=\"color: #00af00; text-decoration-color: #00af00\">0</span>],        │\n",
              "│ (<span style=\"color: #0087ff; text-decoration-color: #0087ff\">Concatenate</span>)             │                        │                │ dense_11[<span style=\"color: #00af00; text-decoration-color: #00af00\">0</span>][<span style=\"color: #00af00; text-decoration-color: #00af00\">0</span>]         │\n",
              "├───────────────────────────┼────────────────────────┼────────────────┼────────────────────────┤\n",
              "│ output (<span style=\"color: #0087ff; text-decoration-color: #0087ff\">Dense</span>)            │ (<span style=\"color: #00d7ff; text-decoration-color: #00d7ff\">None</span>, <span style=\"color: #00af00; text-decoration-color: #00af00\">6</span>)              │          <span style=\"color: #00af00; text-decoration-color: #00af00\">3,270</span> │ concatenate_2[<span style=\"color: #00af00; text-decoration-color: #00af00\">0</span>][<span style=\"color: #00af00; text-decoration-color: #00af00\">0</span>]    │\n",
              "└───────────────────────────┴────────────────────────┴────────────────┴────────────────────────┘\n",
              "</pre>\n"
            ]
          },
          "metadata": {}
        },
        {
          "output_type": "display_data",
          "data": {
            "text/plain": [
              "\u001b[1m Total params: \u001b[0m\u001b[38;5;34m10,474,868\u001b[0m (39.96 MB)\n"
            ],
            "text/html": [
              "<pre style=\"white-space:pre;overflow-x:auto;line-height:normal;font-family:Menlo,'DejaVu Sans Mono',consolas,'Courier New',monospace\"><span style=\"font-weight: bold\"> Total params: </span><span style=\"color: #00af00; text-decoration-color: #00af00\">10,474,868</span> (39.96 MB)\n",
              "</pre>\n"
            ]
          },
          "metadata": {}
        },
        {
          "output_type": "display_data",
          "data": {
            "text/plain": [
              "\u001b[1m Trainable params: \u001b[0m\u001b[38;5;34m3,491,622\u001b[0m (13.32 MB)\n"
            ],
            "text/html": [
              "<pre style=\"white-space:pre;overflow-x:auto;line-height:normal;font-family:Menlo,'DejaVu Sans Mono',consolas,'Courier New',monospace\"><span style=\"font-weight: bold\"> Trainable params: </span><span style=\"color: #00af00; text-decoration-color: #00af00\">3,491,622</span> (13.32 MB)\n",
              "</pre>\n"
            ]
          },
          "metadata": {}
        },
        {
          "output_type": "display_data",
          "data": {
            "text/plain": [
              "\u001b[1m Non-trainable params: \u001b[0m\u001b[38;5;34m0\u001b[0m (0.00 B)\n"
            ],
            "text/html": [
              "<pre style=\"white-space:pre;overflow-x:auto;line-height:normal;font-family:Menlo,'DejaVu Sans Mono',consolas,'Courier New',monospace\"><span style=\"font-weight: bold\"> Non-trainable params: </span><span style=\"color: #00af00; text-decoration-color: #00af00\">0</span> (0.00 B)\n",
              "</pre>\n"
            ]
          },
          "metadata": {}
        },
        {
          "output_type": "display_data",
          "data": {
            "text/plain": [
              "\u001b[1m Optimizer params: \u001b[0m\u001b[38;5;34m6,983,246\u001b[0m (26.64 MB)\n"
            ],
            "text/html": [
              "<pre style=\"white-space:pre;overflow-x:auto;line-height:normal;font-family:Menlo,'DejaVu Sans Mono',consolas,'Courier New',monospace\"><span style=\"font-weight: bold\"> Optimizer params: </span><span style=\"color: #00af00; text-decoration-color: #00af00\">6,983,246</span> (26.64 MB)\n",
              "</pre>\n"
            ]
          },
          "metadata": {}
        }
      ]
    },
    {
      "cell_type": "markdown",
      "source": [
        "## 4. Hugging Face"
      ],
      "metadata": {
        "id": "Ql-gtUk9giVP"
      }
    },
    {
      "cell_type": "markdown",
      "source": [
        "- Importing the hugging face token."
      ],
      "metadata": {
        "id": "eblUiUGpgm1V"
      }
    },
    {
      "cell_type": "code",
      "source": [
        "#Importing the hugging face token.\n",
        "from google.colab import userdata\n",
        "userdata.get('Ali_hugging_face')"
      ],
      "metadata": {
        "id": "XgbK-Vx4d_dm"
      },
      "execution_count": null,
      "outputs": []
    },
    {
      "cell_type": "markdown",
      "source": [
        "- Creating a Hugging face repo."
      ],
      "metadata": {
        "id": "Nn-76DwrgwN3"
      }
    },
    {
      "source": [
        "#Importing the hugging face token.\n",
        "from google.colab import userdata\n",
        "from huggingface_hub import HfApi\n",
        "\n",
        "hf_token = userdata.get('Ali_hugging_face')\n",
        "\n",
        "#Creating a repo on hugging face.\n",
        "hf_username = \"AliInamdar\"  # Replace with your Hugging Face username\n",
        "repo_name = \"Deliverable_3\"  # Change this as needed\n",
        "repo_id = f\"{hf_username}/{repo_name}\"\n",
        "\n",
        "api = HfApi(token=hf_token)\n",
        "\n",
        "# Create the repository\n",
        "api.create_repo(repo_id=repo_id, exist_ok=True)  # exist_ok=True prevents errors if the repo already exists\n",
        "\n",
        "print(f\"Repository created: https://huggingface.co/{repo_id}\")"
      ],
      "cell_type": "code",
      "metadata": {
        "colab": {
          "base_uri": "https://localhost:8080/"
        },
        "id": "OV-dyqcLg_eN",
        "outputId": "fb732c8f-2f95-440c-af5b-512ac963f361"
      },
      "execution_count": 29,
      "outputs": [
        {
          "output_type": "stream",
          "name": "stdout",
          "text": [
            "Repository created: https://huggingface.co/AliInamdar/Deliverable_3\n"
          ]
        }
      ]
    },
    {
      "cell_type": "markdown",
      "source": [
        "## - Pushing the code/model on Hugging face."
      ],
      "metadata": {
        "id": "ZbvrpJO5hC0i"
      }
    },
    {
      "source": [
        "#Pushing the artifacts on Hugging Face\n",
        "import pickle\n",
        "import os\n",
        "from huggingface_hub import HfApi\n",
        "import tensorflow as tf\n",
        "from tensorflow.keras.preprocessing.text import Tokenizer\n",
        "from google.colab import userdata\n",
        "\n",
        "# Define save directory\n",
        "model_dir = \"./saved_model\"\n",
        "os.makedirs(model_dir, exist_ok=True)\n",
        "\n",
        "# Save the model\n",
        "model_path = os.path.join(model_dir, \"model.keras\")\n",
        "model.save(model_path)\n",
        "\n",
        "# Save the tokenizer as a pickle file\n",
        "tokenizer_path = os.path.join(model_dir, \"tokenizer.pkl\")\n",
        "with open(tokenizer_path, \"wb\") as f:\n",
        "    pickle.dump(tokenizer, f)\n",
        "\n",
        "# Upload model and tokenizer to Hugging Face\n",
        "repo_id = f\"AliInamdar/{repo_name}\"  # Change as needed\n",
        "hf_token = userdata.get('Ali_hugging_face')\n",
        "api = HfApi(token=hf_token)\n",
        "\n",
        "api.upload_file(path_or_fileobj=model_path, path_in_repo=\"model.keras\", repo_id=repo_id)\n",
        "api.upload_file(path_or_fileobj=tokenizer_path, path_in_repo=\"tokenizer.pkl\", repo_id=repo_id)\n",
        "\n",
        "print(f\"Model and tokenizer successfully pushed to: https://huggingface.co/{repo_id}\")"
      ],
      "cell_type": "code",
      "metadata": {
        "colab": {
          "base_uri": "https://localhost:8080/",
          "height": 98,
          "referenced_widgets": [
            "ffc4f3a8f8f64ee08a99bfc33de40544",
            "9da2ac4a05124bf38a115cce4a0b4cd9",
            "822b0746ab6f405caee9fb4cb153f0a4",
            "b5944ebc2add4b69884be8d13d363a22",
            "a28cfb136c5b4f04a8b8a3a22e246d78",
            "64a4361945d74775be272cf2d0e2d14f",
            "4f2c4d740ec545c8ae0ae56bbaf6e902",
            "5730d278769c4b52b4c2762efef597d7",
            "a6bb8695b42146178aae4d1c0f96155c",
            "3e80a47a84f64a9ca56eb52af1d351b7",
            "8b504d51d5414277b53cd4abf5553605",
            "5f53cd7dd4594d4f892b8541067a5e74",
            "7210eefeee14499ba833e1343e6a302e",
            "01dd68837f38400988dced4ca4640f6e",
            "5c0ea162800d44f4960f60c76c87ab4f",
            "919c235f1d07437383dc071f75011307",
            "37a738aac69c47f4864ee8d11d671e00",
            "996de66a356b48a5bf4e9c1e654bdb5c",
            "5c89cb88b3714f8fa5eef3af12c99dc3",
            "828a0c46846a423699e6fdaead256f71",
            "a577f010b18540fba36d53af881e8c20",
            "337250899ed54e61bddd58f056f54a1a"
          ]
        },
        "id": "WZjBQMe6hUff",
        "outputId": "91c0951a-5a15-43cd-fbf2-a92a6cf811ac"
      },
      "execution_count": 31,
      "outputs": [
        {
          "output_type": "display_data",
          "data": {
            "text/plain": [
              "model.keras:   0%|          | 0.00/41.9M [00:00<?, ?B/s]"
            ],
            "application/vnd.jupyter.widget-view+json": {
              "version_major": 2,
              "version_minor": 0,
              "model_id": "ffc4f3a8f8f64ee08a99bfc33de40544"
            }
          },
          "metadata": {}
        },
        {
          "output_type": "display_data",
          "data": {
            "text/plain": [
              "tokenizer.pkl:   0%|          | 0.00/25.5k [00:00<?, ?B/s]"
            ],
            "application/vnd.jupyter.widget-view+json": {
              "version_major": 2,
              "version_minor": 0,
              "model_id": "5f53cd7dd4594d4f892b8541067a5e74"
            }
          },
          "metadata": {}
        },
        {
          "output_type": "stream",
          "name": "stdout",
          "text": [
            "Model and tokenizer successfully pushed to: https://huggingface.co/AliInamdar/Deliverable_3\n"
          ]
        }
      ]
    },
    {
      "cell_type": "markdown",
      "source": [
        "## - Downloading the artifacts from Hugging face."
      ],
      "metadata": {
        "id": "EIW8wlzMhoYZ"
      }
    },
    {
      "cell_type": "code",
      "source": [
        "#Downloading the artifacts ffrom hugging face\n",
        "import os\n",
        "import numpy as np\n",
        "import tensorflow as tf\n",
        "from tensorflow import keras\n",
        "from huggingface_hub import hf_hub_download\n",
        "\n",
        "# Set Keras backend to JAX (Optional, only needed if you want to experiment with JAX backend)\n",
        "os.environ[\"KERAS_BACKEND\"] = \"jax\"\n",
        "\n",
        "# Define repo ID and model filename\n",
        "filename = \"model.keras\"  # Ensure this matches what was uploaded\n",
        "\n",
        "# Download the model\n",
        "model_path = hf_hub_download(repo_id=repo_id, filename=filename)\n",
        "\n",
        "# Load the Keras model\n",
        "new_model = keras.models.load_model(model_path)\n",
        "\n",
        "print(\"Model loaded successfully!\")"
      ],
      "metadata": {
        "colab": {
          "base_uri": "https://localhost:8080/",
          "height": 66,
          "referenced_widgets": [
            "0bf92a473d9642d8a8189ebb3fe1a350",
            "c743916695e8447ba56a4d5ce227367a",
            "8762657a0d0b4a41859d0070b84f499a",
            "b578e8ba9c7544a1acc0dc50db5aa34d",
            "4b6fa1b3478a414a933aed6f6c7b2e6c",
            "646a8e90c1874eb0abc65f98027a561e",
            "a4bfa503fee54bdf9a5663513d7c09e2",
            "cf705adac09b492eaed256b0f2b5cfd5",
            "dc2fa6066bea4850b958d618e2815f6c",
            "fbf691790a844c8a87d666f5368996be",
            "6881c7fa1eb4467e867dcea78e936a49"
          ]
        },
        "id": "Zb_-tVpcX2eW",
        "outputId": "b716c710-9c6a-4416-a3d6-29b0f590b6bb"
      },
      "execution_count": 32,
      "outputs": [
        {
          "output_type": "display_data",
          "data": {
            "text/plain": [
              "model.keras:   0%|          | 0.00/41.9M [00:00<?, ?B/s]"
            ],
            "application/vnd.jupyter.widget-view+json": {
              "version_major": 2,
              "version_minor": 0,
              "model_id": "0bf92a473d9642d8a8189ebb3fe1a350"
            }
          },
          "metadata": {}
        },
        {
          "output_type": "stream",
          "name": "stdout",
          "text": [
            "Model loaded successfully!\n"
          ]
        }
      ]
    },
    {
      "cell_type": "markdown",
      "source": [
        "- Displaying the summary of the new downloaded model from hugging face."
      ],
      "metadata": {
        "id": "NKXpa8ICiRVU"
      }
    },
    {
      "cell_type": "code",
      "source": [
        "#Displaying the summary of the new model.\n",
        "new_model.summary()"
      ],
      "metadata": {
        "colab": {
          "base_uri": "https://localhost:8080/",
          "height": 500
        },
        "id": "ztHWDvwMX3OA",
        "outputId": "a7f395cb-e8d4-41a9-b203-9f4786d89449"
      },
      "execution_count": 33,
      "outputs": [
        {
          "output_type": "display_data",
          "data": {
            "text/plain": [
              "\u001b[1mModel: \"functional_2\"\u001b[0m\n"
            ],
            "text/html": [
              "<pre style=\"white-space:pre;overflow-x:auto;line-height:normal;font-family:Menlo,'DejaVu Sans Mono',consolas,'Courier New',monospace\"><span style=\"font-weight: bold\">Model: \"functional_2\"</span>\n",
              "</pre>\n"
            ]
          },
          "metadata": {}
        },
        {
          "output_type": "display_data",
          "data": {
            "text/plain": [
              "┏━━━━━━━━━━━━━━━━━━━━━━━━━━━┳━━━━━━━━━━━━━━━━━━━━━━━━┳━━━━━━━━━━━━━━━━┳━━━━━━━━━━━━━━━━━━━━━━━━┓\n",
              "┃\u001b[1m \u001b[0m\u001b[1mLayer (type)             \u001b[0m\u001b[1m \u001b[0m┃\u001b[1m \u001b[0m\u001b[1mOutput Shape          \u001b[0m\u001b[1m \u001b[0m┃\u001b[1m \u001b[0m\u001b[1m       Param #\u001b[0m\u001b[1m \u001b[0m┃\u001b[1m \u001b[0m\u001b[1mConnected to          \u001b[0m\u001b[1m \u001b[0m┃\n",
              "┡━━━━━━━━━━━━━━━━━━━━━━━━━━━╇━━━━━━━━━━━━━━━━━━━━━━━━╇━━━━━━━━━━━━━━━━╇━━━━━━━━━━━━━━━━━━━━━━━━┩\n",
              "│ text_input (\u001b[38;5;33mInputLayer\u001b[0m)   │ (\u001b[38;5;45mNone\u001b[0m, \u001b[38;5;34m26\u001b[0m)             │              \u001b[38;5;34m0\u001b[0m │ -                      │\n",
              "├───────────────────────────┼────────────────────────┼────────────────┼────────────────────────┤\n",
              "│ embedding_2 (\u001b[38;5;33mEmbedding\u001b[0m)   │ (\u001b[38;5;45mNone\u001b[0m, \u001b[38;5;34m26\u001b[0m, \u001b[38;5;34m16\u001b[0m)         │         \u001b[38;5;34m11,296\u001b[0m │ text_input[\u001b[38;5;34m0\u001b[0m][\u001b[38;5;34m0\u001b[0m]       │\n",
              "├───────────────────────────┼────────────────────────┼────────────────┼────────────────────────┤\n",
              "│ flatten_2 (\u001b[38;5;33mFlatten\u001b[0m)       │ (\u001b[38;5;45mNone\u001b[0m, \u001b[38;5;34m416\u001b[0m)            │              \u001b[38;5;34m0\u001b[0m │ embedding_2[\u001b[38;5;34m0\u001b[0m][\u001b[38;5;34m0\u001b[0m]      │\n",
              "├───────────────────────────┼────────────────────────┼────────────────┼────────────────────────┤\n",
              "│ dense_8 (\u001b[38;5;33mDense\u001b[0m)           │ (\u001b[38;5;45mNone\u001b[0m, \u001b[38;5;34m2048\u001b[0m)           │        \u001b[38;5;34m854,016\u001b[0m │ flatten_2[\u001b[38;5;34m0\u001b[0m][\u001b[38;5;34m0\u001b[0m]        │\n",
              "├───────────────────────────┼────────────────────────┼────────────────┼────────────────────────┤\n",
              "│ dense_9 (\u001b[38;5;33mDense\u001b[0m)           │ (\u001b[38;5;45mNone\u001b[0m, \u001b[38;5;34m1024\u001b[0m)           │      \u001b[38;5;34m2,098,176\u001b[0m │ dense_8[\u001b[38;5;34m0\u001b[0m][\u001b[38;5;34m0\u001b[0m]          │\n",
              "├───────────────────────────┼────────────────────────┼────────────────┼────────────────────────┤\n",
              "│ func_rating_input         │ (\u001b[38;5;45mNone\u001b[0m, \u001b[38;5;34m1\u001b[0m)              │              \u001b[38;5;34m0\u001b[0m │ -                      │\n",
              "│ (\u001b[38;5;33mInputLayer\u001b[0m)              │                        │                │                        │\n",
              "├───────────────────────────┼────────────────────────┼────────────────┼────────────────────────┤\n",
              "│ dense_10 (\u001b[38;5;33mDense\u001b[0m)          │ (\u001b[38;5;45mNone\u001b[0m, \u001b[38;5;34m512\u001b[0m)            │        \u001b[38;5;34m524,800\u001b[0m │ dense_9[\u001b[38;5;34m0\u001b[0m][\u001b[38;5;34m0\u001b[0m]          │\n",
              "├───────────────────────────┼────────────────────────┼────────────────┼────────────────────────┤\n",
              "│ dense_11 (\u001b[38;5;33mDense\u001b[0m)          │ (\u001b[38;5;45mNone\u001b[0m, \u001b[38;5;34m32\u001b[0m)             │             \u001b[38;5;34m64\u001b[0m │ func_rating_input[\u001b[38;5;34m0\u001b[0m][\u001b[38;5;34m…\u001b[0m │\n",
              "├───────────────────────────┼────────────────────────┼────────────────┼────────────────────────┤\n",
              "│ concatenate_2             │ (\u001b[38;5;45mNone\u001b[0m, \u001b[38;5;34m544\u001b[0m)            │              \u001b[38;5;34m0\u001b[0m │ dense_10[\u001b[38;5;34m0\u001b[0m][\u001b[38;5;34m0\u001b[0m],        │\n",
              "│ (\u001b[38;5;33mConcatenate\u001b[0m)             │                        │                │ dense_11[\u001b[38;5;34m0\u001b[0m][\u001b[38;5;34m0\u001b[0m]         │\n",
              "├───────────────────────────┼────────────────────────┼────────────────┼────────────────────────┤\n",
              "│ output (\u001b[38;5;33mDense\u001b[0m)            │ (\u001b[38;5;45mNone\u001b[0m, \u001b[38;5;34m6\u001b[0m)              │          \u001b[38;5;34m3,270\u001b[0m │ concatenate_2[\u001b[38;5;34m0\u001b[0m][\u001b[38;5;34m0\u001b[0m]    │\n",
              "└───────────────────────────┴────────────────────────┴────────────────┴────────────────────────┘\n"
            ],
            "text/html": [
              "<pre style=\"white-space:pre;overflow-x:auto;line-height:normal;font-family:Menlo,'DejaVu Sans Mono',consolas,'Courier New',monospace\">┏━━━━━━━━━━━━━━━━━━━━━━━━━━━┳━━━━━━━━━━━━━━━━━━━━━━━━┳━━━━━━━━━━━━━━━━┳━━━━━━━━━━━━━━━━━━━━━━━━┓\n",
              "┃<span style=\"font-weight: bold\"> Layer (type)              </span>┃<span style=\"font-weight: bold\"> Output Shape           </span>┃<span style=\"font-weight: bold\">        Param # </span>┃<span style=\"font-weight: bold\"> Connected to           </span>┃\n",
              "┡━━━━━━━━━━━━━━━━━━━━━━━━━━━╇━━━━━━━━━━━━━━━━━━━━━━━━╇━━━━━━━━━━━━━━━━╇━━━━━━━━━━━━━━━━━━━━━━━━┩\n",
              "│ text_input (<span style=\"color: #0087ff; text-decoration-color: #0087ff\">InputLayer</span>)   │ (<span style=\"color: #00d7ff; text-decoration-color: #00d7ff\">None</span>, <span style=\"color: #00af00; text-decoration-color: #00af00\">26</span>)             │              <span style=\"color: #00af00; text-decoration-color: #00af00\">0</span> │ -                      │\n",
              "├───────────────────────────┼────────────────────────┼────────────────┼────────────────────────┤\n",
              "│ embedding_2 (<span style=\"color: #0087ff; text-decoration-color: #0087ff\">Embedding</span>)   │ (<span style=\"color: #00d7ff; text-decoration-color: #00d7ff\">None</span>, <span style=\"color: #00af00; text-decoration-color: #00af00\">26</span>, <span style=\"color: #00af00; text-decoration-color: #00af00\">16</span>)         │         <span style=\"color: #00af00; text-decoration-color: #00af00\">11,296</span> │ text_input[<span style=\"color: #00af00; text-decoration-color: #00af00\">0</span>][<span style=\"color: #00af00; text-decoration-color: #00af00\">0</span>]       │\n",
              "├───────────────────────────┼────────────────────────┼────────────────┼────────────────────────┤\n",
              "│ flatten_2 (<span style=\"color: #0087ff; text-decoration-color: #0087ff\">Flatten</span>)       │ (<span style=\"color: #00d7ff; text-decoration-color: #00d7ff\">None</span>, <span style=\"color: #00af00; text-decoration-color: #00af00\">416</span>)            │              <span style=\"color: #00af00; text-decoration-color: #00af00\">0</span> │ embedding_2[<span style=\"color: #00af00; text-decoration-color: #00af00\">0</span>][<span style=\"color: #00af00; text-decoration-color: #00af00\">0</span>]      │\n",
              "├───────────────────────────┼────────────────────────┼────────────────┼────────────────────────┤\n",
              "│ dense_8 (<span style=\"color: #0087ff; text-decoration-color: #0087ff\">Dense</span>)           │ (<span style=\"color: #00d7ff; text-decoration-color: #00d7ff\">None</span>, <span style=\"color: #00af00; text-decoration-color: #00af00\">2048</span>)           │        <span style=\"color: #00af00; text-decoration-color: #00af00\">854,016</span> │ flatten_2[<span style=\"color: #00af00; text-decoration-color: #00af00\">0</span>][<span style=\"color: #00af00; text-decoration-color: #00af00\">0</span>]        │\n",
              "├───────────────────────────┼────────────────────────┼────────────────┼────────────────────────┤\n",
              "│ dense_9 (<span style=\"color: #0087ff; text-decoration-color: #0087ff\">Dense</span>)           │ (<span style=\"color: #00d7ff; text-decoration-color: #00d7ff\">None</span>, <span style=\"color: #00af00; text-decoration-color: #00af00\">1024</span>)           │      <span style=\"color: #00af00; text-decoration-color: #00af00\">2,098,176</span> │ dense_8[<span style=\"color: #00af00; text-decoration-color: #00af00\">0</span>][<span style=\"color: #00af00; text-decoration-color: #00af00\">0</span>]          │\n",
              "├───────────────────────────┼────────────────────────┼────────────────┼────────────────────────┤\n",
              "│ func_rating_input         │ (<span style=\"color: #00d7ff; text-decoration-color: #00d7ff\">None</span>, <span style=\"color: #00af00; text-decoration-color: #00af00\">1</span>)              │              <span style=\"color: #00af00; text-decoration-color: #00af00\">0</span> │ -                      │\n",
              "│ (<span style=\"color: #0087ff; text-decoration-color: #0087ff\">InputLayer</span>)              │                        │                │                        │\n",
              "├───────────────────────────┼────────────────────────┼────────────────┼────────────────────────┤\n",
              "│ dense_10 (<span style=\"color: #0087ff; text-decoration-color: #0087ff\">Dense</span>)          │ (<span style=\"color: #00d7ff; text-decoration-color: #00d7ff\">None</span>, <span style=\"color: #00af00; text-decoration-color: #00af00\">512</span>)            │        <span style=\"color: #00af00; text-decoration-color: #00af00\">524,800</span> │ dense_9[<span style=\"color: #00af00; text-decoration-color: #00af00\">0</span>][<span style=\"color: #00af00; text-decoration-color: #00af00\">0</span>]          │\n",
              "├───────────────────────────┼────────────────────────┼────────────────┼────────────────────────┤\n",
              "│ dense_11 (<span style=\"color: #0087ff; text-decoration-color: #0087ff\">Dense</span>)          │ (<span style=\"color: #00d7ff; text-decoration-color: #00d7ff\">None</span>, <span style=\"color: #00af00; text-decoration-color: #00af00\">32</span>)             │             <span style=\"color: #00af00; text-decoration-color: #00af00\">64</span> │ func_rating_input[<span style=\"color: #00af00; text-decoration-color: #00af00\">0</span>][<span style=\"color: #00af00; text-decoration-color: #00af00\">…</span> │\n",
              "├───────────────────────────┼────────────────────────┼────────────────┼────────────────────────┤\n",
              "│ concatenate_2             │ (<span style=\"color: #00d7ff; text-decoration-color: #00d7ff\">None</span>, <span style=\"color: #00af00; text-decoration-color: #00af00\">544</span>)            │              <span style=\"color: #00af00; text-decoration-color: #00af00\">0</span> │ dense_10[<span style=\"color: #00af00; text-decoration-color: #00af00\">0</span>][<span style=\"color: #00af00; text-decoration-color: #00af00\">0</span>],        │\n",
              "│ (<span style=\"color: #0087ff; text-decoration-color: #0087ff\">Concatenate</span>)             │                        │                │ dense_11[<span style=\"color: #00af00; text-decoration-color: #00af00\">0</span>][<span style=\"color: #00af00; text-decoration-color: #00af00\">0</span>]         │\n",
              "├───────────────────────────┼────────────────────────┼────────────────┼────────────────────────┤\n",
              "│ output (<span style=\"color: #0087ff; text-decoration-color: #0087ff\">Dense</span>)            │ (<span style=\"color: #00d7ff; text-decoration-color: #00d7ff\">None</span>, <span style=\"color: #00af00; text-decoration-color: #00af00\">6</span>)              │          <span style=\"color: #00af00; text-decoration-color: #00af00\">3,270</span> │ concatenate_2[<span style=\"color: #00af00; text-decoration-color: #00af00\">0</span>][<span style=\"color: #00af00; text-decoration-color: #00af00\">0</span>]    │\n",
              "└───────────────────────────┴────────────────────────┴────────────────┴────────────────────────┘\n",
              "</pre>\n"
            ]
          },
          "metadata": {}
        },
        {
          "output_type": "display_data",
          "data": {
            "text/plain": [
              "\u001b[1m Total params: \u001b[0m\u001b[38;5;34m10,474,868\u001b[0m (39.96 MB)\n"
            ],
            "text/html": [
              "<pre style=\"white-space:pre;overflow-x:auto;line-height:normal;font-family:Menlo,'DejaVu Sans Mono',consolas,'Courier New',monospace\"><span style=\"font-weight: bold\"> Total params: </span><span style=\"color: #00af00; text-decoration-color: #00af00\">10,474,868</span> (39.96 MB)\n",
              "</pre>\n"
            ]
          },
          "metadata": {}
        },
        {
          "output_type": "display_data",
          "data": {
            "text/plain": [
              "\u001b[1m Trainable params: \u001b[0m\u001b[38;5;34m3,491,622\u001b[0m (13.32 MB)\n"
            ],
            "text/html": [
              "<pre style=\"white-space:pre;overflow-x:auto;line-height:normal;font-family:Menlo,'DejaVu Sans Mono',consolas,'Courier New',monospace\"><span style=\"font-weight: bold\"> Trainable params: </span><span style=\"color: #00af00; text-decoration-color: #00af00\">3,491,622</span> (13.32 MB)\n",
              "</pre>\n"
            ]
          },
          "metadata": {}
        },
        {
          "output_type": "display_data",
          "data": {
            "text/plain": [
              "\u001b[1m Non-trainable params: \u001b[0m\u001b[38;5;34m0\u001b[0m (0.00 B)\n"
            ],
            "text/html": [
              "<pre style=\"white-space:pre;overflow-x:auto;line-height:normal;font-family:Menlo,'DejaVu Sans Mono',consolas,'Courier New',monospace\"><span style=\"font-weight: bold\"> Non-trainable params: </span><span style=\"color: #00af00; text-decoration-color: #00af00\">0</span> (0.00 B)\n",
              "</pre>\n"
            ]
          },
          "metadata": {}
        },
        {
          "output_type": "display_data",
          "data": {
            "text/plain": [
              "\u001b[1m Optimizer params: \u001b[0m\u001b[38;5;34m6,983,246\u001b[0m (26.64 MB)\n"
            ],
            "text/html": [
              "<pre style=\"white-space:pre;overflow-x:auto;line-height:normal;font-family:Menlo,'DejaVu Sans Mono',consolas,'Courier New',monospace\"><span style=\"font-weight: bold\"> Optimizer params: </span><span style=\"color: #00af00; text-decoration-color: #00af00\">6,983,246</span> (26.64 MB)\n",
              "</pre>\n"
            ]
          },
          "metadata": {}
        }
      ]
    },
    {
      "cell_type": "markdown",
      "source": [
        "## 5. Local Inference."
      ],
      "metadata": {
        "id": "aLvyMq9ZigYd"
      }
    },
    {
      "cell_type": "markdown",
      "source": [
        "- Creating a local inference of the model."
      ],
      "metadata": {
        "id": "SeuVRuKuikJn"
      }
    },
    {
      "cell_type": "code",
      "source": [
        "#Creating a local inference of out new model.\n",
        "import pickle\n",
        "from huggingface_hub import hf_hub_download\n",
        "from tensorflow import keras\n",
        "from tensorflow.keras.preprocessing.sequence import pad_sequences\n",
        "import numpy as np\n",
        "\n",
        "\n",
        "# Download tokenizer\n",
        "tokenizer_path = hf_hub_download(repo_id=repo_id, filename=\"tokenizer.pkl\")\n",
        "\n",
        "# Load the tokenizer\n",
        "with open(tokenizer_path, \"rb\") as f:\n",
        "    tokenizer = pickle.load(f)\n",
        "\n",
        "print(\"Model and tokenizer loaded successfully!\")\n",
        "\n",
        "# Sample test data\n",
        "test_texts = [\n",
        "    \"Best stock to buy?\",\n",
        "    \"How to make safe investments?\",\n",
        "]\n",
        "\n",
        "# Preprocess test data using the loaded tokenizer\n",
        "max_length = model.input_shape[0][1]  # Get max_length from model input shape\n",
        "X_text_test = tokenizer.texts_to_sequences(test_texts)\n",
        "X_text_test = pad_sequences(X_text_test, maxlen=max_length, padding='post')\n",
        "\n",
        "# Dummy numeric input (func_rating)\n",
        "X_func_test = np.array([5, 4]).reshape(-1, 1)\n",
        "\n",
        "# Make predictions\n",
        "predictions = new_model.predict({\"text_input\": X_text_test, \"func_rating_input\": X_func_test})\n",
        "\n",
        "# Display results\n",
        "for i, text in enumerate(test_texts):\n",
        "    print(f\"Prompt: {text}\")\n",
        "    print(f\"Predicted Rating: {predictions[i][0]:.2f}\")\n",
        "    print(\"-\" * 50)"
      ],
      "metadata": {
        "colab": {
          "base_uri": "https://localhost:8080/"
        },
        "id": "I2lo_mklX9K-",
        "outputId": "f24ef032-623e-412e-d6bd-23e6ede00188"
      },
      "execution_count": 36,
      "outputs": [
        {
          "output_type": "stream",
          "name": "stdout",
          "text": [
            "Model and tokenizer loaded successfully!\n",
            "\u001b[1m1/1\u001b[0m \u001b[32m━━━━━━━━━━━━━━━━━━━━\u001b[0m\u001b[37m\u001b[0m \u001b[1m0s\u001b[0m 41ms/step\n",
            "Prompt: Best stock to buy?\n",
            "Predicted Rating: 0.00\n",
            "--------------------------------------------------\n",
            "Prompt: How to make safe investments?\n",
            "Predicted Rating: 0.00\n",
            "--------------------------------------------------\n"
          ]
        }
      ]
    }
  ]
}