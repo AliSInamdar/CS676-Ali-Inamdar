{
  "nbformat": 4,
  "nbformat_minor": 0,
  "metadata": {
    "colab": {
      "provenance": []
    },
    "kernelspec": {
      "name": "python3",
      "display_name": "Python 3"
    },
    "language_info": {
      "name": "python"
    }
  },
  "cells": [
    {
      "cell_type": "code",
      "source": [
        "import openai\n",
        "import os\n",
        "import subprocess\n",
        "import uuid\n",
        "import re"
      ],
      "metadata": {
        "id": "Nn1nZ9Hz7XNg"
      },
      "execution_count": 15,
      "outputs": []
    },
    {
      "cell_type": "code",
      "source": [
        "from openai import OpenAI\n",
        "client = OpenAI()"
      ],
      "metadata": {
        "id": "Mvz-qg8f8zPk"
      },
      "execution_count": 10,
      "outputs": []
    },
    {
      "cell_type": "code",
      "source": [
        "def generate_code(prompt: str, model=\"gpt-4o\") -> str:\n",
        "    system_prompt = \"You are a Python code generator. Only output clean, executable Python code inside one code block. No explanations.\"\n",
        "\n",
        "    client = OpenAI()\n",
        "    response = client.chat.completions.create(\n",
        "        model=model,\n",
        "        messages=[\n",
        "            {\"role\": \"system\", \"content\": system_prompt},\n",
        "            {\"role\": \"user\", \"content\": prompt}\n",
        "        ],\n",
        "        temperature=0.3,\n",
        "    )\n",
        "\n",
        "    # Correct access method\n",
        "    message = response.choices[0].message.content\n",
        "\n",
        "    # Extract Python code cleanly\n",
        "    if \"```\" in message:\n",
        "        code = message.split(\"```python\")[-1].split(\"```\")[0].strip()\n",
        "    else:\n",
        "        code = message.strip()\n",
        "\n",
        "    return code\n",
        "\n",
        "\n",
        "import re\n",
        "\n",
        "def replace_dataset_paths(code: str, dataset_mapping: dict) -> str:\n",
        "    \"\"\"\n",
        "    Replaces placeholder dataset filenames in generated code with actual paths.\n",
        "\n",
        "    Args:\n",
        "        code (str): Generated Python code.\n",
        "        dataset_mapping (dict): Mapping from filename (e.g., 'diabetes.csv') to actual path (e.g., 'datasets/diabetes.csv').\n",
        "\n",
        "    Returns:\n",
        "        str: Updated Python code with correct dataset paths.\n",
        "    \"\"\"\n",
        "    pattern = r\"pd\\.read_csv\\(['\\\"](.*?)['\\\"]\\)\"\n",
        "\n",
        "    def replacer(match):\n",
        "        filename = match.group(1)\n",
        "        actual_path = dataset_mapping.get(filename, filename)  # default to original if not found\n",
        "        return f\"pd.read_csv(r'{actual_path}')\"\n",
        "\n",
        "    new_code = re.sub(pattern, replacer, code)\n",
        "    return new_code\n",
        "\n",
        "\n",
        "def save_code_to_file(code: str, folder=\"generated\") -> str:\n",
        "    \"\"\"Saves code to a uniquely named .py file.\"\"\"\n",
        "    os.makedirs(folder, exist_ok=True)\n",
        "    file_path = os.path.join(folder, f\"code_{uuid.uuid4().hex[:8]}.py\")\n",
        "    with open(file_path, \"w\") as f:\n",
        "        f.write(code)\n",
        "    return file_path\n",
        "\n",
        "\n",
        "def execute_code_file(file_path: str) -> str:\n",
        "    \"\"\"Executes the Python file and captures output.\"\"\"\n",
        "    try:\n",
        "        result = subprocess.run([\"python\", file_path], capture_output=True, text=True, check=True)\n",
        "        return result.stdout\n",
        "    except subprocess.CalledProcessError as e:\n",
        "        return f\"❌ Error while executing the script:\\n{e.stderr}\""
      ],
      "metadata": {
        "id": "COC20jeH7hZ-"
      },
      "execution_count": 16,
      "outputs": []
    },
    {
      "cell_type": "code",
      "source": [
        "if __name__ == \"__main__\":\n",
        "    # Example user prompt\n",
        "    user_instruction = input(\"🧠 What Python task would you like me to run?\\n\")\n",
        "\n",
        "    print(\"\\n🤖 Generating code...\")\n",
        "    code = generate_code(user_instruction)\n",
        "    print(\"\\n✅ Code generated:\\n\")\n",
        "    print(code)\n",
        "\n",
        "    file_path = save_code_to_file(code)\n",
        "    print(f\"\\n💾 Code saved to: {file_path}\")\n",
        "\n",
        "    print(\"\\n⚙️ Running your code...\\n\")\n",
        "    output = execute_code_file(file_path)\n",
        "    print(\"\\n📤 Output:\\n\")\n",
        "    print(output)"
      ],
      "metadata": {
        "colab": {
          "base_uri": "https://localhost:8080/"
        },
        "id": "QEDgKPKR7kdG",
        "outputId": "fdd6546e-1dbf-4f0c-9bad-2e80684678b9"
      },
      "execution_count": 20,
      "outputs": [
        {
          "output_type": "stream",
          "name": "stdout",
          "text": [
            "🧠 What Python task would you like me to run?\n",
            "build a random forest classifier in python to predict diabetes in patients\n",
            "\n",
            "🤖 Generating code...\n",
            "\n",
            "✅ Code generated:\n",
            "\n",
            "import pandas as pd\n",
            "from sklearn.model_selection import train_test_split\n",
            "from sklearn.ensemble import RandomForestClassifier\n",
            "from sklearn.metrics import accuracy_score, classification_report\n",
            "from sklearn.datasets import load_diabetes\n",
            "\n",
            "# Load the diabetes dataset\n",
            "data = load_diabetes(as_frame=True)\n",
            "df = data.frame\n",
            "\n",
            "# Assuming the target variable is 'target' and features are all other columns\n",
            "X = df.drop(columns='target')\n",
            "y = df['target']\n",
            "\n",
            "# Binarize the target variable for classification (e.g., threshold at median)\n",
            "y_binarized = (y > y.median()).astype(int)\n",
            "\n",
            "# Split the data into training and testing sets\n",
            "X_train, X_test, y_train, y_test = train_test_split(X, y_binarized, test_size=0.2, random_state=42)\n",
            "\n",
            "# Initialize the Random Forest Classifier\n",
            "rf_classifier = RandomForestClassifier(n_estimators=100, random_state=42)\n",
            "\n",
            "# Train the classifier\n",
            "rf_classifier.fit(X_train, y_train)\n",
            "\n",
            "# Make predictions\n",
            "y_pred = rf_classifier.predict(X_test)\n",
            "\n",
            "# Evaluate the classifier\n",
            "accuracy = accuracy_score(y_test, y_pred)\n",
            "report = classification_report(y_test, y_pred)\n",
            "\n",
            "print(f\"Accuracy: {accuracy:.2f}\")\n",
            "print(\"Classification Report:\")\n",
            "print(report)\n",
            "\n",
            "💾 Code saved to: generated/code_ec6417c3.py\n",
            "\n",
            "⚙️ Running your code...\n",
            "\n",
            "\n",
            "📤 Output:\n",
            "\n",
            "Accuracy: 0.72\n",
            "Classification Report:\n",
            "              precision    recall  f1-score   support\n",
            "\n",
            "           0       0.74      0.76      0.75        49\n",
            "           1       0.69      0.68      0.68        40\n",
            "\n",
            "    accuracy                           0.72        89\n",
            "   macro avg       0.72      0.72      0.72        89\n",
            "weighted avg       0.72      0.72      0.72        89\n",
            "\n",
            "\n"
          ]
        }
      ]
    },
    {
      "cell_type": "code",
      "source": [],
      "metadata": {
        "id": "mAXZo5a97m1T"
      },
      "execution_count": null,
      "outputs": []
    }
  ]
}