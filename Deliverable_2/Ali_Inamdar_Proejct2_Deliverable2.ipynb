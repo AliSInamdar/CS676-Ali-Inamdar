{
  "nbformat": 4,
  "nbformat_minor": 0,
  "metadata": {
    "colab": {
      "provenance": []
    },
    "kernelspec": {
      "name": "python3",
      "display_name": "Python 3"
    },
    "language_info": {
      "name": "python"
    }
  },
  "cells": [
    {
      "cell_type": "markdown",
      "source": [
        "# Algorithms for Data Science - CS 676\n",
        "\n",
        "## Project 2 - Deliverable 2"
      ],
      "metadata": {
        "id": "lOI8xqF6BMsS"
      }
    },
    {
      "cell_type": "markdown",
      "source": [
        "## Ali Inamdar"
      ],
      "metadata": {
        "id": "bidC9hgZBcAK"
      }
    },
    {
      "cell_type": "markdown",
      "source": [
        "- Installing Mistral AI Library"
      ],
      "metadata": {
        "id": "G_NGNPoeBfeU"
      }
    },
    {
      "cell_type": "code",
      "source": [
        "!pip install mistralai"
      ],
      "metadata": {
        "colab": {
          "base_uri": "https://localhost:8080/"
        },
        "id": "kum6DViJ97ux",
        "outputId": "a22e3f48-1ff5-4911-f08d-716d7941679c"
      },
      "execution_count": 2,
      "outputs": [
        {
          "output_type": "stream",
          "name": "stdout",
          "text": [
            "Collecting mistralai\n",
            "  Downloading mistralai-1.6.0-py3-none-any.whl.metadata (30 kB)\n",
            "Collecting eval-type-backport>=0.2.0 (from mistralai)\n",
            "  Downloading eval_type_backport-0.2.2-py3-none-any.whl.metadata (2.2 kB)\n",
            "Requirement already satisfied: httpx>=0.28.1 in /usr/local/lib/python3.11/dist-packages (from mistralai) (0.28.1)\n",
            "Requirement already satisfied: pydantic>=2.10.3 in /usr/local/lib/python3.11/dist-packages (from mistralai) (2.11.0)\n",
            "Requirement already satisfied: python-dateutil>=2.8.2 in /usr/local/lib/python3.11/dist-packages (from mistralai) (2.8.2)\n",
            "Requirement already satisfied: typing-inspection>=0.4.0 in /usr/local/lib/python3.11/dist-packages (from mistralai) (0.4.0)\n",
            "Requirement already satisfied: anyio in /usr/local/lib/python3.11/dist-packages (from httpx>=0.28.1->mistralai) (4.9.0)\n",
            "Requirement already satisfied: certifi in /usr/local/lib/python3.11/dist-packages (from httpx>=0.28.1->mistralai) (2025.1.31)\n",
            "Requirement already satisfied: httpcore==1.* in /usr/local/lib/python3.11/dist-packages (from httpx>=0.28.1->mistralai) (1.0.7)\n",
            "Requirement already satisfied: idna in /usr/local/lib/python3.11/dist-packages (from httpx>=0.28.1->mistralai) (3.10)\n",
            "Requirement already satisfied: h11<0.15,>=0.13 in /usr/local/lib/python3.11/dist-packages (from httpcore==1.*->httpx>=0.28.1->mistralai) (0.14.0)\n",
            "Requirement already satisfied: annotated-types>=0.6.0 in /usr/local/lib/python3.11/dist-packages (from pydantic>=2.10.3->mistralai) (0.7.0)\n",
            "Requirement already satisfied: pydantic-core==2.33.0 in /usr/local/lib/python3.11/dist-packages (from pydantic>=2.10.3->mistralai) (2.33.0)\n",
            "Requirement already satisfied: typing-extensions>=4.12.2 in /usr/local/lib/python3.11/dist-packages (from pydantic>=2.10.3->mistralai) (4.13.0)\n",
            "Requirement already satisfied: six>=1.5 in /usr/local/lib/python3.11/dist-packages (from python-dateutil>=2.8.2->mistralai) (1.17.0)\n",
            "Requirement already satisfied: sniffio>=1.1 in /usr/local/lib/python3.11/dist-packages (from anyio->httpx>=0.28.1->mistralai) (1.3.1)\n",
            "Downloading mistralai-1.6.0-py3-none-any.whl (288 kB)\n",
            "\u001b[2K   \u001b[90m━━━━━━━━━━━━━━━━━━━━━━━━━━━━━━━━━━━━━━━━\u001b[0m \u001b[32m288.7/288.7 kB\u001b[0m \u001b[31m7.5 MB/s\u001b[0m eta \u001b[36m0:00:00\u001b[0m\n",
            "\u001b[?25hDownloading eval_type_backport-0.2.2-py3-none-any.whl (5.8 kB)\n",
            "Installing collected packages: eval-type-backport, mistralai\n",
            "Successfully installed eval-type-backport-0.2.2 mistralai-1.6.0\n"
          ]
        }
      ]
    },
    {
      "cell_type": "markdown",
      "source": [
        "- Installing Libraries"
      ],
      "metadata": {
        "id": "dIA5ZDczBt3q"
      }
    },
    {
      "cell_type": "code",
      "execution_count": 49,
      "metadata": {
        "id": "1VmfzA-49375"
      },
      "outputs": [],
      "source": [
        "# Installing all the libraries required for this project\n",
        "import os\n",
        "import re\n",
        "import subprocess\n",
        "from mistralai import Mistral\n",
        "from typing import Optional, Any\n",
        "from IPython import get_ipython\n",
        "from IPython.display import display"
      ]
    },
    {
      "cell_type": "markdown",
      "source": [
        "- Mistral Ai API Key & Agent"
      ],
      "metadata": {
        "id": "sLUrzl4gBxLY"
      }
    },
    {
      "cell_type": "code",
      "source": [
        "api_key = \"Ali_Mistral_API_Key\"\n",
        "agent= 'Ali_Agent_ID'"
      ],
      "metadata": {
        "id": "erkzrkfR_ewu"
      },
      "execution_count": 45,
      "outputs": []
    },
    {
      "cell_type": "markdown",
      "source": [
        "- Creating a class ChatBot"
      ],
      "metadata": {
        "id": "4Rq9lJQeIIau"
      }
    },
    {
      "cell_type": "code",
      "source": [
        "class ChatBot:\n",
        "    def __init__(self, api_key: str, agent_id: str):\n",
        "        \"\"\"\n",
        "        Initializes the ChatBot with the given API key.\n",
        "\n",
        "        Args:\n",
        "            api_key (str): The API key for accessing Mistral services.\n",
        "        \"\"\"\n",
        "        self.client = Mistral(api_key=api_key)\n",
        "        self.agent_id = agent\n",
        "        self.history = []"
      ],
      "metadata": {
        "id": "GTgdJ_rc96lP"
      },
      "execution_count": 33,
      "outputs": []
    },
    {
      "cell_type": "markdown",
      "source": [
        "- Generating response"
      ],
      "metadata": {
        "id": "RRqeOuM7IXHM"
      }
    },
    {
      "cell_type": "code",
      "source": [
        "def generate_response(self, user_message: str) -> str:\n",
        "        \"\"\"\n",
        "        Generates a response from the chatbot based on the user's message.\n",
        "\n",
        "        Args:\n",
        "            agent_id (str): The ID of the agent to interact with.\n",
        "            user_message (str): The message sent by the user.\n",
        "\n",
        "        Returns:\n",
        "            str: The response from the chatbot.\n",
        "        \"\"\"\n",
        "        # Add the user's message to the history\n",
        "        self.history.append({\n",
        "            \"role\": \"user\",\n",
        "            \"content\": user_message\n",
        "        })\n",
        "\n",
        "        # Send the message to the API and get the response\n",
        "        chat_response = self.client.agents.complete(\n",
        "            agent_id=self.agent_id,\n",
        "            messages=self.history,\n",
        "        )\n",
        "\n",
        "        # Extract the AI's response and add it to the history\n",
        "        ai_response = chat_response.choices[0].message.content\n",
        "        self.history.append({\n",
        "            \"role\": \"assistant\",\n",
        "            \"content\": ai_response\n",
        "        })\n",
        "\n",
        "        # Return the AI's response\n",
        "        return ai_response\n"
      ],
      "metadata": {
        "id": "foLwXlZK-GMf"
      },
      "execution_count": 34,
      "outputs": []
    },
    {
      "cell_type": "markdown",
      "source": [
        "- Getting history"
      ],
      "metadata": {
        "id": "6jLzCkFsIa0W"
      }
    },
    {
      "cell_type": "code",
      "source": [
        "def get_history(self) -> list:\n",
        "        \"\"\"\n",
        "        Returns the conversation history.\n",
        "\n",
        "        Returns:\n",
        "            list: The conversation history.\n",
        "        \"\"\"\n",
        "        return self.history"
      ],
      "metadata": {
        "id": "viycvNTg-kiE"
      },
      "execution_count": 35,
      "outputs": []
    },
    {
      "cell_type": "markdown",
      "source": [
        "- Saving python code"
      ],
      "metadata": {
        "id": "RJ1riJfgIdKB"
      }
    },
    {
      "cell_type": "code",
      "source": [
        "def isolate_and_save_python_code(self, input_string: str, file_path: str) -> Optional[str]:\n",
        "        \"\"\"\n",
        "        Extracts Python code from a given input string and saves it to a file.\n",
        "\n",
        "        This function looks for a block of text that is enclosed within triple backticks (```),\n",
        "        specifically targeting blocks that start with ```python.\n",
        "\n",
        "        Args:\n",
        "            input_string (str): The input string containing the Python code block.\n",
        "            file_path (str): The path where the extracted Python code will be saved.\n",
        "\n",
        "        Returns:\n",
        "            Optional[str]: The path to the saved file if the Python code block is found and saved, else None.\n",
        "        \"\"\"\n",
        "        # Define the pattern to match the Python code block\n",
        "        pattern = r'```python\\s*(.*?)\\s*```'\n",
        "\n",
        "        # Search for the pattern in the input string\n",
        "        match = re.search(pattern, input_string, re.DOTALL)\n",
        "\n",
        "        if match:\n",
        "            # Extract the Python code\n",
        "            python_code = match.group(1)\n",
        "\n",
        "            # Write the Python code to the specified file\n",
        "            with open(file_path, 'w') as file:\n",
        "                file.write(python_code)\n",
        "\n",
        "            return file_path\n",
        "        else:\n",
        "            # Return None if no Python code block is found\n",
        "            return None"
      ],
      "metadata": {
        "id": "QZ5Aa6NM-m3Y"
      },
      "execution_count": 36,
      "outputs": []
    },
    {
      "cell_type": "markdown",
      "source": [
        "- Executing python script"
      ],
      "metadata": {
        "id": "y6lNgJkmIf_i"
      }
    },
    {
      "cell_type": "code",
      "source": [
        "def execute_python_script(self, script_path: str) -> Any:\n",
        "        \"\"\"\n",
        "        Executes a locally existing Python script.\n",
        "\n",
        "        This function runs the specified Python script using the subprocess module.\n",
        "\n",
        "        Args:\n",
        "            script_path (str): The file path of the Python script to be executed.\n",
        "\n",
        "        Returns:\n",
        "            Any: The output of the executed script.\n",
        "        \"\"\"\n",
        "        try:\n",
        "            # Execute the Python script\n",
        "            result = subprocess.run(['python', script_path], capture_output=True, text=True, check=True)\n",
        "\n",
        "            # Return the output of the script\n",
        "            return result.stdout\n",
        "        except subprocess.CalledProcessError as e:\n",
        "            # Handle any errors that occur during script execution\n",
        "            print(f\"Error executing script: {e}\")\n",
        "            return None"
      ],
      "metadata": {
        "id": "uaqbh4nS-pvu"
      },
      "execution_count": 37,
      "outputs": []
    },
    {
      "cell_type": "markdown",
      "source": [
        "- Running the Mistral Agent"
      ],
      "metadata": {
        "id": "IpFQ0ZeYIjGx"
      }
    },
    {
      "cell_type": "code",
      "source": [
        "def run_mistral_agent(self):\n",
        "        \"\"\"\n",
        "        Runs the Mistral agent chatbot interaction.\n",
        "        \"\"\"\n",
        "        prompt = input(\"🧑 Human: \")\n",
        "\n",
        "        while 'EXIT' not in prompt:\n",
        "            response = self.generate_response(\n",
        "                user_message=prompt\n",
        "            )\n",
        "\n",
        "            print(\"🤖 Bot: \", response)\n",
        "\n",
        "            if '```python' in response:\n",
        "                file_name = input(\"💻 What name do you want to save for this script? \")\n",
        "                file_name = \"_\".join(file_name.split())\n",
        "                self.isolate_and_save_python_code(\n",
        "                    input_string=response,\n",
        "                    file_path=f\"{file_name}.py\"\n",
        "                )\n",
        "\n",
        "                execution = input(\"💻 Do you want to execute this script? Enter 'Y' or 'N'. \")\n",
        "                if execution == 'Y':\n",
        "                    output = self.execute_python_script(f\"{file_name}.py\")\n",
        "                    if output is not None:\n",
        "                        print(\"Script executed successfully.\")\n",
        "                        print(\"🤖 Bot Output: \")\n",
        "                        print(output)\n",
        "                    else:\n",
        "                        print(\"Failed to execute the script.\")\n",
        "\n",
        "            print(\"NOTE: Enter 'EXIT' if you want to quit the program.\")\n",
        "            print()\n",
        "            print()\n",
        "            print()\n",
        "\n",
        "            prompt = input(\"🧑 Human: \")"
      ],
      "metadata": {
        "id": "M9rNHosZ-r2p"
      },
      "execution_count": 38,
      "outputs": []
    },
    {
      "cell_type": "markdown",
      "source": [
        "## Output:"
      ],
      "metadata": {
        "id": "A7SKkCRZIqKQ"
      }
    },
    {
      "cell_type": "code",
      "source": [
        "if __name__ == \"__main__\":\n",
        "    API_KEY = api_key  # Replace with your actual API key\n",
        "    AGENT_ID = agent  # Replace with your actual agent ID\n",
        "\n",
        "    chatbot = ChatBot(api_key=API_KEY, agent_id=AGENT_ID)\n",
        "    chatbot.run_mistral_agent()\n"
      ],
      "metadata": {
        "colab": {
          "base_uri": "https://localhost:8080/"
        },
        "id": "uvGzImrOAUB1",
        "outputId": "f782b80d-a43f-477f-971d-e1067b2d1a1b"
      },
      "execution_count": 48,
      "outputs": [
        {
          "name": "stdout",
          "output_type": "stream",
          "text": [
            "🧑 Human: hello\n",
            "🤖 Bot:  Hello! How can I assist you today? If you're up for it, I'd love to share an interesting fact or a light joke to start our conversation. What do you say?\n",
            "NOTE: Enter 'EXIT' if you want to quit the program.\n",
            "\n",
            "\n",
            "\n",
            "🧑 Human: can you tell me the code for linear regression?\n",
            "🤖 Bot:  Certainly! Linear regression is a fundamental technique in machine learning and statistics. Below is an example of how you can implement linear regression using Python with the `scikit-learn` library.\n",
            "\n",
            "First, make sure you have `scikit-learn` installed. You can install it using pip if you haven't already:\n",
            "\n",
            "```bash\n",
            "pip install scikit-learn\n",
            "```\n",
            "\n",
            "Here is a simple example of linear regression:\n",
            "\n",
            "```python\n",
            "import numpy as np\n",
            "import matplotlib.pyplot as plt\n",
            "from sklearn.linear_model import LinearRegression\n",
            "from sklearn.model_selection import train_test_split\n",
            "from sklearn.metrics import mean_squared_error, r2_score\n",
            "\n",
            "# Generate some example data\n",
            "np.random.seed(0)\n",
            "X = 2 * np.random.rand(100, 1)\n",
            "y = 4 + 3 * X + np.random.randn(100, 1)\n",
            "\n",
            "# Split the data into training and testing sets\n",
            "X_train, X_test, y_train, y_test = train_test_split(X, y, test_size=0.2, random_state=42)\n",
            "\n",
            "# Create a linear regression model\n",
            "model = LinearRegression()\n",
            "\n",
            "# Train the model\n",
            "model.fit(X_train, y_train)\n",
            "\n",
            "# Make predictions\n",
            "y_pred = model.predict(X_test)\n",
            "\n",
            "# Evaluate the model\n",
            "mse = mean_squared_error(y_test, y_pred)\n",
            "r2 = r2_score(y_test, y_pred)\n",
            "\n",
            "print(f\"Mean Squared Error: {mse}\")\n",
            "print(f\"R^2 Score: {r2}\")\n",
            "\n",
            "# Plot the results\n",
            "plt.scatter(X, y, color='black', label='Data')\n",
            "plt.plot(X_test, y_pred, color='blue', linewidth=2, label='Linear Regression')\n",
            "plt.xlabel('X')\n",
            "plt.ylabel('y')\n",
            "plt.legend()\n",
            "plt.show()\n",
            "```\n",
            "\n",
            "### Explanation:\n",
            "1. **Data Generation**: We generate some example data for demonstration purposes.\n",
            "2. **Data Splitting**: The data is split into training and testing sets using `train_test_split`.\n",
            "3. **Model Creation**: We create an instance of the `LinearRegression` model.\n",
            "4. **Model Training**: The model is trained using the `fit` method.\n",
            "5. **Predictions**: We make predictions on the test set using the `predict` method.\n",
            "6. **Evaluation**: We evaluate the model using mean squared error (MSE) and the R² score.\n",
            "7. **Plotting**: We plot the data points and the regression line to visualize the results.\n",
            "\n",
            "You can adapt this code to your specific dataset and requirements. If you have any questions or need further assistance, feel free to ask!\n",
            "💻 What name do you want to save for this script? yes\n",
            "💻 Do you want to execute this script? Enter 'Y' or 'N'. Y\n",
            "Script executed successfully.\n",
            "🤖 Bot Output: \n",
            "Mean Squared Error: 0.9177532469714291\n",
            "R^2 Score: 0.6521157503858556\n",
            "Figure(640x480)\n",
            "\n",
            "NOTE: Enter 'EXIT' if you want to quit the program.\n",
            "\n",
            "\n",
            "\n",
            "🧑 Human: EXIT\n"
          ]
        }
      ]
    }
  ]
}