{
  "nbformat": 4,
  "nbformat_minor": 0,
  "metadata": {
    "colab": {
      "provenance": []
    },
    "kernelspec": {
      "name": "python3",
      "display_name": "Python 3"
    },
    "language_info": {
      "name": "python"
    }
  },
  "cells": [
    {
      "cell_type": "code",
      "execution_count": 29,
      "metadata": {
        "colab": {
          "base_uri": "https://localhost:8080/"
        },
        "id": "Ax9JANx2ZxPe",
        "outputId": "9e0c5198-0e48-410e-e452-df3d951ab029"
      },
      "outputs": [
        {
          "output_type": "stream",
          "name": "stdout",
          "text": [
            "Requirement already satisfied: wyn-agent in /usr/local/lib/python3.11/dist-packages (0.1.9)\n",
            "Requirement already satisfied: mistralai<2.0.0,>=1.0.1 in /usr/local/lib/python3.11/dist-packages (from wyn-agent) (1.5.0)\n",
            "Requirement already satisfied: eval-type-backport>=0.2.0 in /usr/local/lib/python3.11/dist-packages (from mistralai<2.0.0,>=1.0.1->wyn-agent) (0.2.2)\n",
            "Requirement already satisfied: httpx>=0.27.0 in /usr/local/lib/python3.11/dist-packages (from mistralai<2.0.0,>=1.0.1->wyn-agent) (0.28.1)\n",
            "Requirement already satisfied: jsonpath-python>=1.0.6 in /usr/local/lib/python3.11/dist-packages (from mistralai<2.0.0,>=1.0.1->wyn-agent) (1.0.6)\n",
            "Requirement already satisfied: pydantic>=2.9.0 in /usr/local/lib/python3.11/dist-packages (from mistralai<2.0.0,>=1.0.1->wyn-agent) (2.10.6)\n",
            "Requirement already satisfied: python-dateutil>=2.8.2 in /usr/local/lib/python3.11/dist-packages (from mistralai<2.0.0,>=1.0.1->wyn-agent) (2.8.2)\n",
            "Requirement already satisfied: typing-inspect>=0.9.0 in /usr/local/lib/python3.11/dist-packages (from mistralai<2.0.0,>=1.0.1->wyn-agent) (0.9.0)\n",
            "Requirement already satisfied: anyio in /usr/local/lib/python3.11/dist-packages (from httpx>=0.27.0->mistralai<2.0.0,>=1.0.1->wyn-agent) (3.7.1)\n",
            "Requirement already satisfied: certifi in /usr/local/lib/python3.11/dist-packages (from httpx>=0.27.0->mistralai<2.0.0,>=1.0.1->wyn-agent) (2024.12.14)\n",
            "Requirement already satisfied: httpcore==1.* in /usr/local/lib/python3.11/dist-packages (from httpx>=0.27.0->mistralai<2.0.0,>=1.0.1->wyn-agent) (1.0.7)\n",
            "Requirement already satisfied: idna in /usr/local/lib/python3.11/dist-packages (from httpx>=0.27.0->mistralai<2.0.0,>=1.0.1->wyn-agent) (3.10)\n",
            "Requirement already satisfied: h11<0.15,>=0.13 in /usr/local/lib/python3.11/dist-packages (from httpcore==1.*->httpx>=0.27.0->mistralai<2.0.0,>=1.0.1->wyn-agent) (0.14.0)\n",
            "Requirement already satisfied: annotated-types>=0.6.0 in /usr/local/lib/python3.11/dist-packages (from pydantic>=2.9.0->mistralai<2.0.0,>=1.0.1->wyn-agent) (0.7.0)\n",
            "Requirement already satisfied: pydantic-core==2.27.2 in /usr/local/lib/python3.11/dist-packages (from pydantic>=2.9.0->mistralai<2.0.0,>=1.0.1->wyn-agent) (2.27.2)\n",
            "Requirement already satisfied: typing-extensions>=4.12.2 in /usr/local/lib/python3.11/dist-packages (from pydantic>=2.9.0->mistralai<2.0.0,>=1.0.1->wyn-agent) (4.12.2)\n",
            "Requirement already satisfied: six>=1.5 in /usr/local/lib/python3.11/dist-packages (from python-dateutil>=2.8.2->mistralai<2.0.0,>=1.0.1->wyn-agent) (1.17.0)\n",
            "Requirement already satisfied: mypy-extensions>=0.3.0 in /usr/local/lib/python3.11/dist-packages (from typing-inspect>=0.9.0->mistralai<2.0.0,>=1.0.1->wyn-agent) (1.0.0)\n",
            "Requirement already satisfied: sniffio>=1.1 in /usr/local/lib/python3.11/dist-packages (from anyio->httpx>=0.27.0->mistralai<2.0.0,>=1.0.1->wyn-agent) (1.3.1)\n"
          ]
        }
      ],
      "source": [
        "! pip install wyn-agent"
      ]
    },
    {
      "cell_type": "code",
      "source": [
        "from google.colab import userdata\n",
        "MISTRAL_API_KEY = userdata.get('Ali_Mistral_API_Key')"
      ],
      "metadata": {
        "id": "znu-ruCIZ3e1"
      },
      "execution_count": 30,
      "outputs": []
    },
    {
      "cell_type": "code",
      "source": [
        "from wyn_agent.mistral_agent import ChatBot"
      ],
      "metadata": {
        "id": "qnwQQawNbSq3"
      },
      "execution_count": 31,
      "outputs": []
    },
    {
      "cell_type": "code",
      "source": [
        "bot = ChatBot(\n",
        "    api_key=MISTRAL_API_KEY,\n",
        "    agent_id=\"ag:ebf9813d:20250204:untitled-agent:8152e9d0\",\n",
        "    protocol=\"You are a code assistant.\"\n",
        ")\n",
        "\n",
        "bot.run_mistral_agent()"
      ],
      "metadata": {
        "colab": {
          "base_uri": "https://localhost:8080/"
        },
        "id": "2HADsZpEcGKY",
        "outputId": "b0b8c687-ca9c-4162-c489-264cc18f5165"
      },
      "execution_count": 34,
      "outputs": [
        {
          "name": "stdout",
          "output_type": "stream",
          "text": [
            "START CHATTING: Enter 'EXIT' if you want to quit the program.\n",
            "🧑 Human: hello , please give me the code for linear regression \n",
            "🤖 Bot:  Hello! I'd be happy to help you with linear regression. Here's a simple example using Python with NumPy for the calculations and Matplotlib for visualization. We'll also use scikit-learn to compare our implementation.\n",
            "\n",
            "**1. Simple Linear Regression using NumPy:**\n",
            "\n",
            "```python\n",
            "import numpy as np\n",
            "import matplotlib.pyplot as plt\n",
            "\n",
            "# Generate synthetic data\n",
            "np.random.seed(0)\n",
            "X = 2 * np.random.rand(100, 1)\n",
            "y = 4 + 3 * X + np.random.randn(100, 1)\n",
            "\n",
            "# Add a column of ones for the intercept term\n",
            "X_b = np.c_[np.ones((100, 1)), X]\n",
            "\n",
            "# Calculate the best fit line using the normal equation\n",
            "theta_best = np.linalg.inv(X_b.T.dot(X_b)).dot(X_b.T).dot(y)\n",
            "\n",
            "# Make predictions\n",
            "X_new = np.array([[0], [2]])\n",
            "X_new_b = np.c_[np.ones((2, 1)), X_new]\n",
            "y_predict = X_new_b.dot(theta_best)\n",
            "\n",
            "# Plot the data and the best fit line\n",
            "plt.plot(X_new, y_predict, \"r-\")\n",
            "plt.plot(X, y, \"b.\")\n",
            "plt.axis([0, 2, 0, 15])\n",
            "plt.show()\n",
            "```\n",
            "\n",
            "**2. Linear Regression using scikit-learn:**\n",
            "\n",
            "```python\n",
            "from sklearn.linear_model import LinearRegression\n",
            "\n",
            "# Generate synthetic data\n",
            "np.random.seed(0)\n",
            "X = 2 * np.random.rand(100, 1)\n",
            "y = 4 + 3 * X + np.random.randn(100, 1)\n",
            "\n",
            "# Fit a linear regression model\n",
            "lin_reg = LinearRegression()\n",
            "lin_reg.fit(X, y)\n",
            "\n",
            "# Make predictions\n",
            "X_new = np.array([[0], [2]])\n",
            "y_predict = lin_reg.predict(X_new)\n",
            "\n",
            "# Print the coefficients\n",
            "print(\"Coefficients:\", lin_reg.coef_)\n",
            "print(\"Intercept:\", lin_reg.intercept_)\n",
            "\n",
            "# Plot the data and the best fit line\n",
            "plt.plot(X_new, y_predict, \"r-\")\n",
            "plt.plot(X, y, \"b.\")\n",
            "plt.axis([0, 2, 0, 15])\n",
            "plt.show()\n",
            "```\n",
            "\n",
            "Both of these examples should give you a good starting point for understanding and implementing linear regression. If you have any questions or need further assistance, feel free to ask!\n",
            "💻 What name do you want to save for this script? ali_test1\n",
            "💻 Do you want to execute this script? Enter 'Y' or 'N'. Y\n",
            "Script executed successfully.\n",
            "🤖 Bot Output: \n",
            "Figure(640x480)\n",
            "\n",
            "\n",
            "\n",
            "\n",
            "🧑 Human: add comments to the code\n",
            "🤖 Bot:  Sure! Here are the same examples with added comments to explain each step:\n",
            "\n",
            "**1. Simple Linear Regression using NumPy:**\n",
            "\n",
            "```python\n",
            "import numpy as np\n",
            "import matplotlib.pyplot as plt\n",
            "\n",
            "# Generate synthetic data\n",
            "# Set the random seed for reproducibility\n",
            "np.random.seed(0)\n",
            "\n",
            "# Create a 100x1 array with random values between 0 and 2\n",
            "X = 2 * np.random.rand(100, 1)\n",
            "\n",
            "# Create the target variable y using a linear relationship with some noise\n",
            "y = 4 + 3 * X + np.random.randn(100, 1)\n",
            "\n",
            "# Add a column of ones to X to account for the intercept term in linear regression\n",
            "X_b = np.c_[np.ones((100, 1)), X]\n",
            "\n",
            "# Calculate the best fit line using the normal equation: theta_best = (X^T * X)^(-1) * X^T * y\n",
            "theta_best = np.linalg.inv(X_b.T.dot(X_b)).dot(X_b.T).dot(y)\n",
            "\n",
            "# Make predictions using the best fit line parameters\n",
            "X_new = np.array([[0], [2]])  # New input data for prediction\n",
            "X_new_b = np.c_[np.ones((2, 1)), X_new]  # Add a column of ones for the intercept term\n",
            "y_predict = X_new_b.dot(theta_best)  # Calculate the predictions\n",
            "\n",
            "# Plot the data and the best fit line\n",
            "plt.plot(X_new, y_predict, \"r-\", label=\"Predictions\")  # Plot the best fit line (predictions)\n",
            "plt.plot(X, y, \"b.\", label=\"Data points\")  # Plot the original data points\n",
            "plt.axis([0, 2, 0, 15])  # Set the axis limits\n",
            "plt.legend()  # Show the legend\n",
            "plt.show()  # Display the plot\n",
            "```\n",
            "\n",
            "**2. Linear Regression using scikit-learn:**\n",
            "\n",
            "```python\n",
            "from sklearn.linear_model import LinearRegression\n",
            "import numpy as np\n",
            "import matplotlib.pyplot as plt\n",
            "\n",
            "# Generate synthetic data\n",
            "# Set the random seed for reproducibility\n",
            "np.random.seed(0)\n",
            "\n",
            "# Create a 100x1 array with random values between 0 and 2\n",
            "X = 2 * np.random.rand(100, 1)\n",
            "\n",
            "# Create the target variable y using a linear relationship with some noise\n",
            "y = 4 + 3 * X + np.random.randn(100, 1)\n",
            "\n",
            "# Create a LinearRegression object\n",
            "lin_reg = LinearRegression()\n",
            "\n",
            "# Fit the linear regression model to the data (X, y)\n",
            "lin_reg.fit(X, y)\n",
            "\n",
            "# Make predictions using the fitted model\n",
            "X_new = np.array([[0], [2]])  # New input data for prediction\n",
            "y_predict = lin_reg.predict(X_new)  # Calculate the predictions\n",
            "\n",
            "# Print the coefficients (slope) and intercept of the linear regression model\n",
            "print(\"Coefficients:\", lin_reg.coef_)\n",
            "print(\"Intercept:\", lin_reg.intercept_)\n",
            "\n",
            "# Plot the data and the best fit line\n",
            "plt.plot(X_new, y_predict, \"r-\", label=\"Predictions\")  # Plot the best fit line (predictions)\n",
            "plt.plot(X, y, \"b.\", label=\"Data points\")  # Plot the original data points\n",
            "plt.axis([0, 2, 0, 15])  # Set the axis limits\n",
            "plt.legend()  # Show the legend\n",
            "plt.show()  # Display the plot\n",
            "```\n",
            "\n",
            "These comments should help you understand what each part of the code does. If you have any further questions, please ask!\n",
            "💻 What name do you want to save for this script? ali_test2\n",
            "💻 Do you want to execute this script? Enter 'Y' or 'N'. Y\n",
            "Script executed successfully.\n",
            "🤖 Bot Output: \n",
            "Figure(640x480)\n",
            "\n",
            "\n",
            "\n",
            "\n",
            "🧑 Human: EXIT\n"
          ]
        }
      ]
    },
    {
      "cell_type": "code",
      "source": [],
      "metadata": {
        "id": "OalBPVoheDrB"
      },
      "execution_count": null,
      "outputs": []
    }
  ]
}